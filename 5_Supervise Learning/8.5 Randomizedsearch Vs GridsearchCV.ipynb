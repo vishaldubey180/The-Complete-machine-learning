{
 "cells": [
  {
   "cell_type": "markdown",
   "metadata": {},
   "source": [
    "# Randomized searchcv VS gridsearchcv"
   ]
  },
  {
   "cell_type": "code",
   "execution_count": 1,
   "metadata": {},
   "outputs": [],
   "source": [
    "from sklearn.model_selection import RandomizedSearchCV"
   ]
  },
  {
   "cell_type": "code",
   "execution_count": 2,
   "metadata": {},
   "outputs": [],
   "source": [
    "params={ 'class_weight':[None,'balanced'], \n",
    "        'criterion':['entropy','gini'],\n",
    "        'max_depth':[None,5,10,15,20,30,50,70],\n",
    "            'min_samples_leaf':[1,2,5,10,15,20], \n",
    "            'min_samples_split':[2,5,10,15,20]\n",
    "       }\n",
    "       "
   ]
  },
  {
   "cell_type": "markdown",
   "metadata": {},
   "source": [
    "SO here the variable params consist of 5 different parameters \n",
    "Now each of this parameter consist of some values \n",
    "Now the possible combination will be 960 as hsown below \n",
    "\n",
    "Now if we use gridsearch and use 10fold cv we willbuild 9600 models or individual trees which will result in best possible combination but also take a lot of time \n",
    "\n",
    "In order to handel this instead of trying all 960 the combination we can try only 10% of this combinations i.e 96 \n",
    "\n",
    "Randomized search will randomly select only 96 of the combinations and give good enough results though we don't have gurantee of best combinations but it will give us a good enough combinations  at fraction of run time \n",
    "\n",
    "The tradeoff between runtime and how good a result will be is this particular randomized search vs gridsearch \n",
    "\n",
    "Now we can make randomized search better by running it multiple times each time we get a different combinations and check whether the combinations are consistent across different runs \n",
    "\n",
    "we can expand in teh neighborhood values as well\n"
   ]
  },
  {
   "cell_type": "code",
   "execution_count": 3,
   "metadata": {},
   "outputs": [
    {
     "data": {
      "text/plain": [
       "960"
      ]
     },
     "execution_count": 3,
     "metadata": {},
     "output_type": "execute_result"
    }
   ],
   "source": [
    "2*2*8*6*5"
   ]
  },
  {
   "cell_type": "code",
   "execution_count": 4,
   "metadata": {},
   "outputs": [],
   "source": [
    "params={ 'class_weight':[None,'balanced'],\n",
    "        'criterion':['entropy','gini'], \n",
    "        'max_depth':[None,5,20,70], \n",
    "        'min_samples_leaf':[10,15,20,25],\n",
    "        'min_samples_split':[2,10,20] }"
   ]
  },
  {
   "cell_type": "code",
   "execution_count": 5,
   "metadata": {},
   "outputs": [
    {
     "data": {
      "text/plain": [
       "44"
      ]
     },
     "execution_count": 5,
     "metadata": {},
     "output_type": "execute_result"
    }
   ],
   "source": [
    "2*2*4*3*3   --- 10*10"
   ]
  },
  {
   "cell_type": "code",
   "execution_count": null,
   "metadata": {},
   "outputs": [],
   "source": []
  }
 ],
 "metadata": {
  "kernelspec": {
   "display_name": "Python 3",
   "language": "python",
   "name": "python3"
  },
  "language_info": {
   "codemirror_mode": {
    "name": "ipython",
    "version": 3
   },
   "file_extension": ".py",
   "mimetype": "text/x-python",
   "name": "python",
   "nbconvert_exporter": "python",
   "pygments_lexer": "ipython3",
   "version": "3.7.4"
  }
 },
 "nbformat": 4,
 "nbformat_minor": 2
}
