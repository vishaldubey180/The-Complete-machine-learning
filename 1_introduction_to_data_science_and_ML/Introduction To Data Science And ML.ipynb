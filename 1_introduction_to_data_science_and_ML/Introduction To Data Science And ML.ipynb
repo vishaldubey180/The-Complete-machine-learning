{
 "cells": [
  {
   "cell_type": "markdown",
   "metadata": {},
   "source": [
    "## Introduction To Data Science And Ml\n"
   ]
  },
  {
   "cell_type": "markdown",
   "metadata": {},
   "source": [
    "#### ARTIFICIAL INTELLIGENCE"
   ]
  },
  {
   "cell_type": "markdown",
   "metadata": {},
   "source": [
    "**Artificial Intelligence**(AI) refers to the simulation of human **Intelligence** in machine that are programmed to think like human and mimic their action. The term may also be applied to any machine that exhibits traits associated with the human mind such as training and problem solving "
   ]
  },
  {
   "cell_type": "markdown",
   "metadata": {},
   "source": [
    "#### MACHINE LEARNING"
   ]
  },
  {
   "cell_type": "markdown",
   "metadata": {},
   "source": [
    "It is an application of AI that provides systems the ability to learn  automatically themselves without being explicitly programmed and improve theire learning from experience just like human"
   ]
  },
  {
   "cell_type": "markdown",
   "metadata": {},
   "source": [
    "#### NEURAL NETWORK"
   ]
  },
  {
   "cell_type": "markdown",
   "metadata": {},
   "source": [
    "A NN is a network or circuit of neurons , or in modern sense an artificial nural network consist of an artificial nurons or nodes"
   ]
  },
  {
   "cell_type": "markdown",
   "metadata": {},
   "source": [
    "#### DEEP LEARNING"
   ]
  },
  {
   "cell_type": "markdown",
   "metadata": {},
   "source": [
    "**Deep learning** is an AI function that mimics the working of the human brain in processing data for use in detecting objects , recognizing speech , translating languages and making decisions. \n",
    "**Deep learning AI can learn without human supervision, drawing from data that is both unstructured and unlabeled**"
   ]
  },
  {
   "cell_type": "markdown",
   "metadata": {},
   "source": [
    "#### DATA SCIENCE "
   ]
  },
  {
   "cell_type": "markdown",
   "metadata": {},
   "source": [
    "- Data Science is the process of extracting knowledge and insights from large volume of data \n",
    "- data science is an inter-disciplinry field that uses scientific methods , process algorithms and sysytem to extract knowledge and insights from many structural and unstructured data \n",
    "- data science is related to data mining, machine learning and big data "
   ]
  },
  {
   "cell_type": "markdown",
   "metadata": {},
   "source": [
    "- **data science is an art of learning from the data**\n",
    "- **Let's try to understand data science by an example** \n",
    "  - so when we try to study for a particular exam what do we want?, we want a lot of material which ha lot of information in that , we will figure out around two or three books , which will have all the information and data related to the cpurse which we are going to have to answer in the exam which is let see tomorrow . Once we have these books we read each and every page of those book and try to find out different pieces of information which are important , which are the pattern , let's say we have science exams so we will try to pick out some important concepts from it . the question which are more likely to come in exams like oxidation, reduction, periodic table. to answer particular question we need to have visited that concept\n",
    "  \n",
    "  - This is what data science we want to extract and we want to know from a piece of information and we want to learn different pattern from the information so that if any quetion is asking us around the particular topic , we will be able to answer that\n",
    "  \n",
    "  - Remember that we are not being given the exact same question which will present in the book \n",
    "  \n",
    "  - here we have to learn concepts not mugging up the question \n",
    "- **DATA SCIENCE** is the process of extracting knowledge and insights from large volume of data (structured or unstructured\n",
    "  \n",
    "  "
   ]
  },
  {
   "cell_type": "markdown",
   "metadata": {},
   "source": [
    "### WHAT IS THE NEED OF DATA SCIENCE"
   ]
  },
  {
   "cell_type": "markdown",
   "metadata": {},
   "source": [
    "- We need data science for making decision \n",
    "- In an organisition there are lot of information or knowledge which is presrent nowdays, we have so much of information and knowledge in different files and in different databases , but no one really knew earlier how to use them \n",
    "- but know we have data science and ML which will help us to find out different pattern from this data \n",
    "- if we want to make a particular decision , then we can go back to this data we can learn from this data and then make particular decision "
   ]
  },
  {
   "cell_type": "markdown",
   "metadata": {},
   "source": [
    "### WHAT DOES DATA SCIENTIST DO?\n"
   ]
  },
  {
   "cell_type": "markdown",
   "metadata": {},
   "source": [
    "**Data science is the field of finding out solution to a particular problem by analyzing the data**"
   ]
  },
  {
   "cell_type": "markdown",
   "metadata": {},
   "source": [
    "- Identifying the data- analyics problems that offers the greatest opportunites to the organistaion\n",
    "- Determining the correct data sets and variables\n",
    "- Collecting large sets of structured and unstructred data from disparate source \n",
    "- cleaning and validating the data to ensure accuracy, completeness and uniformity\n",
    "- Devising and applying models and algorithms to mine the stores of the big data \n",
    "\n",
    "- Analyzing the data to identify pattern and trends \n",
    "\n",
    "- interpreting the data to discover solution and opportunities\n",
    "\n",
    "- Communicating findings to stakeholders using visualisation and other means "
   ]
  },
  {
   "cell_type": "markdown",
   "metadata": {},
   "source": [
    "### WHAT IS MACHINE LEARNING"
   ]
  },
  {
   "cell_type": "markdown",
   "metadata": {},
   "source": [
    "- **ML is an application of AI that provide systems the ability to automatically learn and improve from experience without being explicitly programmed**\n",
    "- **Ml focuses on the development of computer programms that can use it learn for themselves** "
   ]
  },
  {
   "cell_type": "markdown",
   "metadata": {},
   "source": [
    "### WHERE MACHINE LEARNING USED "
   ]
  },
  {
   "cell_type": "markdown",
   "metadata": {},
   "source": [
    "- The heavily hyped , self driving Google car? the essence of machine learning.\n",
    "- Online recommendation offers such as those from amzon and netflix ML application for everyday life\n",
    "- knowing what customers are saying about you on Twitter. ML combine with linguistic rule creation.\n",
    "- Fraud detection . one of the more obvious important use in our world today"
   ]
  },
  {
   "cell_type": "code",
   "execution_count": null,
   "metadata": {},
   "outputs": [],
   "source": []
  }
 ],
 "metadata": {
  "kernelspec": {
   "display_name": "Python 3",
   "language": "python",
   "name": "python3"
  },
  "language_info": {
   "codemirror_mode": {
    "name": "ipython",
    "version": 3
   },
   "file_extension": ".py",
   "mimetype": "text/x-python",
   "name": "python",
   "nbconvert_exporter": "python",
   "pygments_lexer": "ipython3",
   "version": "3.7.4"
  }
 },
 "nbformat": 4,
 "nbformat_minor": 2
}
