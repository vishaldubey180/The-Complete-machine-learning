{
 "cells": [
  {
   "cell_type": "markdown",
   "metadata": {},
   "source": [
    "#### ** Data handling exercise solution:**\n"
   ]
  },
  {
   "cell_type": "markdown",
   "metadata": {},
   "source": [
    "1\\. Create an array [[riya,sachin,andy],[prof dinesh,prof andrew, prof peter],[71,75,50]].From this array create a     \n",
    "   dictionary that has students with their respective prof name and marks obtained.\n",
    "   \n",
    "   It should be like: \n",
    "   \n",
    "   d={'riya':['prof dinesh',71],'sachin':['prof andrew',75],'andy':['prof peter',50]}\n",
    "   \n",
    "\n",
    "   "
   ]
  },
  {
   "cell_type": "code",
   "execution_count": 1,
   "metadata": {},
   "outputs": [],
   "source": [
    "import warnings\n",
    "warnings.filterwarnings('ignore')\n"
   ]
  },
  {
   "cell_type": "code",
   "execution_count": 2,
   "metadata": {},
   "outputs": [],
   "source": [
    "import numpy as np\n",
    "import math\n"
   ]
  },
  {
   "cell_type": "code",
   "execution_count": 3,
   "metadata": {},
   "outputs": [
    {
     "name": "stdout",
     "output_type": "stream",
     "text": [
      "[['riya' 'sachin' 'andy']\n",
      " ['prof_dinesh' 'prof_andrew' 'prof_peter']\n",
      " ['71' '75' '50']]\n"
     ]
    },
    {
     "data": {
      "text/plain": [
       "{'riya': ('prof_dinesh', '71'),\n",
       " 'sachin': ('prof_andrew', '75'),\n",
       " 'andy': ('prof_peter', '50')}"
      ]
     },
     "execution_count": 3,
     "metadata": {},
     "output_type": "execute_result"
    }
   ],
   "source": [
    "l = np.array([[\"riya\",\"sachin\",\"andy\"],[\"prof_dinesh\",\"prof_andrew\", \"prof_peter\"],[71,75,50]])   \n",
    "print(l)\n",
    "\n",
    "d={l[0,0]:(l[1,0],l[2,0]),l[0,1]:(l[1,1],l[2,1]),l[0,2]:(l[1,2],l[2,2])} #extracting array values using index\n",
    "d"
   ]
  },
  {
   "cell_type": "markdown",
   "metadata": {},
   "source": [
    "2\\. create an array [[4,0,0],[4,4,0],[4,4,4]].Discover a direct function to get this lower triangular matrix or you can\n",
    "   come up with any solution of yours\n",
    "   "
   ]
  },
  {
   "cell_type": "code",
   "execution_count": 4,
   "metadata": {},
   "outputs": [
    {
     "name": "stdout",
     "output_type": "stream",
     "text": [
      "[[0 0 0]\n",
      " [4 0 0]\n",
      " [4 4 0]]\n"
     ]
    },
    {
     "data": {
      "text/plain": [
       "array([[4, 0, 0],\n",
       "       [4, 4, 0],\n",
       "       [4, 4, 4]])"
      ]
     },
     "execution_count": 4,
     "metadata": {},
     "output_type": "execute_result"
    }
   ],
   "source": [
    "a=np.tril(np.full((3,3),4,dtype=int), -1)#to get the lower triangular matrix\n",
    "print(a)\n",
    "\n",
    "np.fill_diagonal(a,4)#to get the diagonal element\n",
    "a"
   ]
  },
  {
   "cell_type": "code",
   "execution_count": 7,
   "metadata": {},
   "outputs": [
    {
     "data": {
      "text/plain": [
       "array([[4, 4, 0],\n",
       "       [4, 4, 4],\n",
       "       [4, 4, 4]])"
      ]
     },
     "execution_count": 7,
     "metadata": {},
     "output_type": "execute_result"
    }
   ],
   "source": [
    "np.tril(np.full((3,3),4,dtype=int),1)"
   ]
  },
  {
   "cell_type": "markdown",
   "metadata": {},
   "source": [
    "3\\. Create an array of string data type of dimension 3,3 [you can put any strings of your choice in this array]. Obtain\n",
    "   length of each string value in a separate 3,3 array. Also extract vowels of each string value and make a separate \n",
    "   3,3 array consisting of vowels of respective string value.\n",
    "   \n",
    "   Example: \n",
    "   \n",
    "   say you have an array [[me, i, my],[we, us, ours],[you, yours, them]]\n",
    "   the length matrix should be [[2,1,2],[2,2,4],[3,5,4]]\n",
    "   and vowel matrix should be  [[e,i,None],[e,u,ou],[ou,ou,e]]"
   ]
  },
  {
   "cell_type": "code",
   "execution_count": 8,
   "metadata": {},
   "outputs": [
    {
     "name": "stdout",
     "output_type": "stream",
     "text": [
      "[['me' 'i' 'my']\n",
      " ['we' 'us' 'ours']\n",
      " ['you' 'yours' 'them']]\n",
      "['me' 'i' 'my' 'we' 'us' 'ours' 'you' 'yours' 'them']\n"
     ]
    },
    {
     "data": {
      "text/plain": [
       "array([[2, 1, 2],\n",
       "       [2, 2, 4],\n",
       "       [3, 5, 4]])"
      ]
     },
     "execution_count": 8,
     "metadata": {},
     "output_type": "execute_result"
    }
   ],
   "source": [
    "str_array=np.array([[\"me\", \"i\", \"my\"],[\"we\", \"us\", \"ours\"],[\"you\", \"yours\", \"them\"]])\n",
    "print(str_array)\n",
    "list=str_array.flatten() #convert the array in a single list of all elements\n",
    "print(list)\n",
    "\n",
    "    \n",
    "l=np.array([len(element) for element in list])\n",
    "np.reshape(l,(3,3)) #shaping the list to an array"
   ]
  },
  {
   "cell_type": "markdown",
   "metadata": {},
   "source": [
    "\n"
   ]
  },
  {
   "cell_type": "markdown",
   "metadata": {},
   "source": [
    "4\\. Take an array of dimension 3,3 of float datatype(these should be random values between 2 to 40 , all integers) and \n",
    "   print only those numbers which are prime [Prime numbers are numbers which are divisible only by themselves.]\n",
    "\n",
    "   Example:\n",
    "   \n",
    "   if It takes [[2,5,11],[8,15,9],[21,29,30]]\n",
    "   It should give me the output: 2,5,29\n",
    "   \n",
    " "
   ]
  },
  {
   "cell_type": "code",
   "execution_count": 6,
   "metadata": {},
   "outputs": [
    {
     "name": "stdout",
     "output_type": "stream",
     "text": [
      "[[12 32 38]\n",
      " [29 24 31]\n",
      " [ 3 28 28]]\n"
     ]
    },
    {
     "data": {
      "text/plain": [
       "array([29, 31,  3])"
      ]
     },
     "execution_count": 6,
     "metadata": {},
     "output_type": "execute_result"
    }
   ],
   "source": [
    "import random\n",
    "x = np.random.randint(low=2,high=40, size=(3, 3))\n",
    "print(x)\n",
    "\n",
    "primes=[2,3,5,7,11,13,17,19,23,29,31,37] #prime numbers between 2 and 40\n",
    "\n",
    "is_prime=(x==2)\n",
    "for p in primes[1:] :\n",
    "    is_prime=np.logical_or(is_prime,x==p)\n",
    "    \n",
    "x[is_prime]\n",
    "\n",
    "#The other function which can be use is:\n",
    "# for i in range(3):\n",
    "#     for j in range(3):\n",
    "#         r=0\n",
    "#         for k in range (2,x[i,j]+1):\n",
    "#             if(x[i,j]%k==0):\n",
    "#                 r=r+1\n",
    "#         if(r==1): \n",
    "#             print(x[i,j])\n"
   ]
  },
  {
   "cell_type": "markdown",
   "metadata": {},
   "source": [
    "5\\. Obtain sum of diagonal elements of the matrix you considered above.\n",
    "   \n",
    "   Example:For me, if this is the matrix [[2,5,11],[8,15,9],[21,29,30]]\n",
    "   It should give me the output: 47\n",
    "   \n",
    "   "
   ]
  },
  {
   "cell_type": "code",
   "execution_count": 7,
   "metadata": {},
   "outputs": [
    {
     "name": "stdout",
     "output_type": "stream",
     "text": [
      "[[12 32 38]\n",
      " [29 24 31]\n",
      " [ 3 28 28]]\n"
     ]
    },
    {
     "data": {
      "text/plain": [
       "64"
      ]
     },
     "execution_count": 7,
     "metadata": {},
     "output_type": "execute_result"
    }
   ],
   "source": [
    "print(x)\n",
    "\n",
    "sum(np.diag(x))"
   ]
  },
  {
   "cell_type": "markdown",
   "metadata": {},
   "source": [
    "6\\. Given the two vectors a=i-3j+6k and b=3i+5j, obtain dot product between them and also the angle between the two \n",
    "   lines. Use numpy arrays to represent these vectors.\n",
    "   \n",
    " "
   ]
  },
  {
   "cell_type": "code",
   "execution_count": 8,
   "metadata": {},
   "outputs": [
    {
     "name": "stdout",
     "output_type": "stream",
     "text": [
      "[[ 1 -3  6]] [[3 5 0]]\n",
      "[[-12]]\n",
      "[[ 1  9 36]]\n",
      "[[ 9 25  0]]\n",
      "[[-0.30343304]]\n",
      "1.8790898337700073\n"
     ]
    }
   ],
   "source": [
    "import math\n",
    "\n",
    "l_1=np.array([[1,-3,6]])  \n",
    "l_2=np.array([[3,5,0]])\n",
    "print(l_1,l_2)\n",
    "\n",
    "dot_prod=np.dot(l_1,l_2.T) #or use l_1*l_2\n",
    "print(dot_prod)\n",
    "\n",
    "l_1s=np.square(l_1) # A.B=|A||B|cos(theta)\n",
    "print(l_1s)\n",
    "l_2s=np.square(l_2)\n",
    "print(l_2s)\n",
    "\n",
    "mod_1=math.sqrt(np.sum(l_1s))\n",
    "mod_2=math.sqrt(np.sum(l_2s))\n",
    "print((dot_prod) / ((mod_1) * (mod_2)))\n",
    "\n",
    "angle= math.acos((dot_prod) / ((mod_1) * (mod_2))) #to obtain angle\n",
    "print(angle)"
   ]
  },
  {
   "cell_type": "markdown",
   "metadata": {},
   "source": [
    "7\\. Import a data set 'revenue' which should not contain the index column.\n",
    "   "
   ]
  },
  {
   "cell_type": "code",
   "execution_count": 3,
   "metadata": {},
   "outputs": [
    {
     "data": {
      "text/html": [
       "<div>\n",
       "<table border=\"1\" class=\"dataframe\">\n",
       "  <thead>\n",
       "    <tr style=\"text-align: right;\">\n",
       "      <th></th>\n",
       "      <th>DEL_NO</th>\n",
       "      <th>FCD</th>\n",
       "      <th>DataRevenue_JAN</th>\n",
       "      <th>DataRevenue_FEB</th>\n",
       "      <th>DataRevenue_MAR</th>\n",
       "      <th>DataRevenue_APR</th>\n",
       "      <th>DataRevenue_May</th>\n",
       "      <th>DataUsageMB_JAN</th>\n",
       "      <th>DataUsageMB_FEB</th>\n",
       "      <th>DataUsageMB_MAR</th>\n",
       "      <th>...</th>\n",
       "      <th>2G-3G_Latch_FEB</th>\n",
       "      <th>2G-3G_Latch_MAR</th>\n",
       "      <th>2G-3G_Latch_APR</th>\n",
       "      <th>2G-3G_Latch_MAY</th>\n",
       "      <th>DUProfile_JAN</th>\n",
       "      <th>DUProfile_FEB</th>\n",
       "      <th>DUProfile_MAR</th>\n",
       "      <th>DUProfile_APR</th>\n",
       "      <th>DUProfile_May</th>\n",
       "      <th>Customer Type</th>\n",
       "    </tr>\n",
       "  </thead>\n",
       "  <tbody>\n",
       "    <tr>\n",
       "      <th>0</th>\n",
       "      <td>1</td>\n",
       "      <td>03-11-2010</td>\n",
       "      <td>172.0</td>\n",
       "      <td>176.0</td>\n",
       "      <td>0.0</td>\n",
       "      <td>225.0</td>\n",
       "      <td>0.0</td>\n",
       "      <td>1595.0</td>\n",
       "      <td>998.0</td>\n",
       "      <td>667.0</td>\n",
       "      <td>...</td>\n",
       "      <td>3G</td>\n",
       "      <td>3G</td>\n",
       "      <td>3G</td>\n",
       "      <td>3G</td>\n",
       "      <td>H</td>\n",
       "      <td>M</td>\n",
       "      <td>M</td>\n",
       "      <td>M</td>\n",
       "      <td>M</td>\n",
       "      <td>Consistent_M</td>\n",
       "    </tr>\n",
       "    <tr>\n",
       "      <th>1</th>\n",
       "      <td>2</td>\n",
       "      <td>16-02-2016</td>\n",
       "      <td>NaN</td>\n",
       "      <td>69.0</td>\n",
       "      <td>68.0</td>\n",
       "      <td>109.0</td>\n",
       "      <td>82.0</td>\n",
       "      <td>NaN</td>\n",
       "      <td>305.0</td>\n",
       "      <td>429.0</td>\n",
       "      <td>...</td>\n",
       "      <td>3G</td>\n",
       "      <td>NaN</td>\n",
       "      <td>NaN</td>\n",
       "      <td>3G</td>\n",
       "      <td>NaN</td>\n",
       "      <td>M</td>\n",
       "      <td>M</td>\n",
       "      <td>M</td>\n",
       "      <td>M</td>\n",
       "      <td>Consistent_M</td>\n",
       "    </tr>\n",
       "    <tr>\n",
       "      <th>2</th>\n",
       "      <td>3</td>\n",
       "      <td>05-05-2015</td>\n",
       "      <td>148.0</td>\n",
       "      <td>217.0</td>\n",
       "      <td>185.0</td>\n",
       "      <td>182.0</td>\n",
       "      <td>156.0</td>\n",
       "      <td>555.0</td>\n",
       "      <td>795.0</td>\n",
       "      <td>905.0</td>\n",
       "      <td>...</td>\n",
       "      <td>NaN</td>\n",
       "      <td>NaN</td>\n",
       "      <td>NaN</td>\n",
       "      <td>NaN</td>\n",
       "      <td>M</td>\n",
       "      <td>M</td>\n",
       "      <td>M</td>\n",
       "      <td>M</td>\n",
       "      <td>M</td>\n",
       "      <td>Consistent_M</td>\n",
       "    </tr>\n",
       "    <tr>\n",
       "      <th>3</th>\n",
       "      <td>4</td>\n",
       "      <td>06-04-2015</td>\n",
       "      <td>NaN</td>\n",
       "      <td>34.0</td>\n",
       "      <td>131.0</td>\n",
       "      <td>86.0</td>\n",
       "      <td>0.0</td>\n",
       "      <td>NaN</td>\n",
       "      <td>206.0</td>\n",
       "      <td>1499.0</td>\n",
       "      <td>...</td>\n",
       "      <td>3G</td>\n",
       "      <td>3G</td>\n",
       "      <td>3G</td>\n",
       "      <td>NaN</td>\n",
       "      <td>NaN</td>\n",
       "      <td>L</td>\n",
       "      <td>H</td>\n",
       "      <td>M</td>\n",
       "      <td>M</td>\n",
       "      <td>Consistent_M</td>\n",
       "    </tr>\n",
       "    <tr>\n",
       "      <th>4</th>\n",
       "      <td>5</td>\n",
       "      <td>08-07-2012</td>\n",
       "      <td>103.0</td>\n",
       "      <td>NaN</td>\n",
       "      <td>NaN</td>\n",
       "      <td>104.0</td>\n",
       "      <td>109.0</td>\n",
       "      <td>996.0</td>\n",
       "      <td>NaN</td>\n",
       "      <td>NaN</td>\n",
       "      <td>...</td>\n",
       "      <td>NaN</td>\n",
       "      <td>NaN</td>\n",
       "      <td>NaN</td>\n",
       "      <td>NaN</td>\n",
       "      <td>M</td>\n",
       "      <td>NaN</td>\n",
       "      <td>NaN</td>\n",
       "      <td>M</td>\n",
       "      <td>M</td>\n",
       "      <td>Consistent_M</td>\n",
       "    </tr>\n",
       "  </tbody>\n",
       "</table>\n",
       "<p>5 rows × 30 columns</p>\n",
       "</div>"
      ],
      "text/plain": [
       "   DEL_NO         FCD  DataRevenue_JAN  DataRevenue_FEB  DataRevenue_MAR  \\\n",
       "0       1  03-11-2010            172.0            176.0              0.0   \n",
       "1       2  16-02-2016              NaN             69.0             68.0   \n",
       "2       3  05-05-2015            148.0            217.0            185.0   \n",
       "3       4  06-04-2015              NaN             34.0            131.0   \n",
       "4       5  08-07-2012            103.0              NaN              NaN   \n",
       "\n",
       "   DataRevenue_APR  DataRevenue_May  DataUsageMB_JAN  DataUsageMB_FEB  \\\n",
       "0            225.0              0.0           1595.0            998.0   \n",
       "1            109.0             82.0              NaN            305.0   \n",
       "2            182.0            156.0            555.0            795.0   \n",
       "3             86.0              0.0              NaN            206.0   \n",
       "4            104.0            109.0            996.0              NaN   \n",
       "\n",
       "   DataUsageMB_MAR      ...       2G-3G_Latch_FEB  2G-3G_Latch_MAR  \\\n",
       "0            667.0      ...                    3G               3G   \n",
       "1            429.0      ...                    3G              NaN   \n",
       "2            905.0      ...                   NaN              NaN   \n",
       "3           1499.0      ...                    3G               3G   \n",
       "4              NaN      ...                   NaN              NaN   \n",
       "\n",
       "  2G-3G_Latch_APR 2G-3G_Latch_MAY DUProfile_JAN DUProfile_FEB DUProfile_MAR  \\\n",
       "0              3G              3G             H             M             M   \n",
       "1             NaN              3G           NaN             M             M   \n",
       "2             NaN             NaN             M             M             M   \n",
       "3              3G             NaN           NaN             L             H   \n",
       "4             NaN             NaN             M           NaN           NaN   \n",
       "\n",
       "   DUProfile_APR  DUProfile_May Customer Type  \n",
       "0              M              M  Consistent_M  \n",
       "1              M              M  Consistent_M  \n",
       "2              M              M  Consistent_M  \n",
       "3              M              M  Consistent_M  \n",
       "4              M              M  Consistent_M  \n",
       "\n",
       "[5 rows x 30 columns]"
      ]
     },
     "execution_count": 3,
     "metadata": {},
     "output_type": "execute_result"
    }
   ],
   "source": [
    "import pandas as pd\n",
    "%matplotlib inline\n",
    "\n",
    "myfile='revenue.csv'\n",
    "rev=pd.read_csv(myfile,index_col=False)\n",
    "\n",
    "rev.head()"
   ]
  },
  {
   "cell_type": "markdown",
   "metadata": {},
   "source": [
    "* Change the data type of column Del_No to object type so that it is not considered as float data type.\n"
   ]
  },
  {
   "cell_type": "code",
   "execution_count": 4,
   "metadata": {},
   "outputs": [
    {
     "data": {
      "text/plain": [
       "dtype('O')"
      ]
     },
     "execution_count": 4,
     "metadata": {},
     "output_type": "execute_result"
    }
   ],
   "source": [
    "rev['DEL_NO']=rev['DEL_NO'].astype('str')\n",
    "rev[\"DEL_NO\"].dtype"
   ]
  },
  {
   "cell_type": "markdown",
   "metadata": {},
   "source": [
    "* get summary statistics of the numeric columns. \n"
   ]
  },
  {
   "cell_type": "code",
   "execution_count": null,
   "metadata": {},
   "outputs": [],
   "source": [
    "rev.describe()"
   ]
  },
  {
   "cell_type": "markdown",
   "metadata": {},
   "source": [
    "   * The data set contains lot of missing values, count number of missing values for each column. How can we impute \n",
    "     these?"
   ]
  },
  {
   "cell_type": "code",
   "execution_count": 6,
   "metadata": {},
   "outputs": [
    {
     "name": "stdout",
     "output_type": "stream",
     "text": [
      "DEL_NO                      0\n",
      "FCD                         0\n",
      "DataRevenue_JAN         28002\n",
      "DataRevenue_FEB         21975\n",
      "DataRevenue_MAR         19282\n",
      "DataRevenue_APR         18931\n",
      "DataRevenue_May         19121\n",
      "DataUsageMB_JAN         28002\n",
      "DataUsageMB_FEB         21975\n",
      "DataUsageMB_MAR         19282\n",
      "DataUsageMB_APR         18931\n",
      "DataUsageMB_May         19121\n",
      "HandSetType_JAN         15257\n",
      "HandSetType_FEB          9111\n",
      "HandSetType_MAR          5075\n",
      "HandSetType_APR          1696\n",
      "HandSetType_MAY            78\n",
      "April_DUActivityDays    18948\n",
      "May_DUActivityDays      19488\n",
      "2G-3G_Latch_JAN         49616\n",
      "2G-3G_Latch_FEB         46730\n",
      "2G-3G_Latch_MAR         47801\n",
      "2G-3G_Latch_APR         47880\n",
      "2G-3G_Latch_MAY         47036\n",
      "DUProfile_JAN           31063\n",
      "DUProfile_FEB           25009\n",
      "DUProfile_MAR           22866\n",
      "DUProfile_APR           22410\n",
      "DUProfile_May           22251\n",
      "Customer Type               0\n",
      "dtype: int64\n"
     ]
    }
   ],
   "source": [
    "missing_values=rev.isnull().sum() #obtaing missing values\n",
    "print(missing_values)"
   ]
  },
  {
   "cell_type": "markdown",
   "metadata": {},
   "source": [
    "   * Obtain mean and sum of columns data_revenue and columns data_usage for all the months."
   ]
  },
  {
   "cell_type": "code",
   "execution_count": 9,
   "metadata": {},
   "outputs": [
    {
     "name": "stdout",
     "output_type": "stream",
     "text": [
      "DataRevenue_JAN    227.229683\n",
      "DataRevenue_FEB    219.723388\n",
      "DataRevenue_MAR    244.314384\n",
      "DataRevenue_APR    241.336322\n",
      "DataRevenue_May    245.427509\n",
      "dtype: float64\n",
      "----\n",
      "DataRevenue_JAN    1191138.0\n",
      "DataRevenue_FEB    1151790.0\n",
      "DataRevenue_MAR    1280696.0\n",
      "DataRevenue_APR    1265085.0\n",
      "DataRevenue_May    1286531.0\n",
      "dtype: float64\n",
      "----\n",
      "DataUsageMB_JAN    1493.531095\n",
      "DataUsageMB_FEB    1429.585845\n",
      "DataUsageMB_MAR    1577.885540\n",
      "DataUsageMB_APR    1563.380961\n",
      "DataUsageMB_May    1598.008775\n",
      "dtype: float64\n",
      "----\n",
      "DataUsageMB_JAN    7829090.0\n",
      "DataUsageMB_FEB    7493889.0\n",
      "DataUsageMB_MAR    8271276.0\n",
      "DataUsageMB_APR    8195243.0\n",
      "DataUsageMB_May    8376762.0\n",
      "dtype: float64\n"
     ]
    }
   ],
   "source": [
    "rev=rev.dropna()#remove missing values\n",
    "\n",
    "mean_rev=rev[[\"DataRevenue_JAN\",\"DataRevenue_FEB\",\"DataRevenue_MAR\",\"DataRevenue_APR\",\"DataRevenue_May\"]].mean()\n",
    "print(mean_rev) #mean of all the columns of columns data_revenue\n",
    "\n",
    "print(\"----\")\n",
    "\n",
    "sum_rev=rev[[\"DataRevenue_JAN\",\"DataRevenue_FEB\",\"DataRevenue_MAR\",\"DataRevenue_APR\",\"DataRevenue_May\"]].sum()\n",
    "print(sum_rev) #sum of all the columns of columns data_revenue\n",
    "\n",
    "print(\"----\")\n",
    "\n",
    "mean_use=rev[[\"DataUsageMB_JAN\",\"DataUsageMB_FEB\",\"DataUsageMB_MAR\",\"DataUsageMB_APR\",\"DataUsageMB_May\"]].mean()\n",
    "print(mean_use) #mean of all the columns of columns data_usage\n",
    "\n",
    "print(\"----\")\n",
    "\n",
    "sum_use=rev[[\"DataUsageMB_JAN\",\"DataUsageMB_FEB\",\"DataUsageMB_MAR\",\"DataUsageMB_APR\",\"DataUsageMB_May\"]].sum()\n",
    "print(sum_use) #sum of all the columns of columns data_usage"
   ]
  },
  {
   "cell_type": "markdown",
   "metadata": {},
   "source": [
    "   * Add a column in dataset that contains the sum of the revenues of all months and then drop all other revenue  \n",
    "     columns.Do the same for data_usage columns.Also Drop the columns April_DUActivityDays and May_DUActivityDays\n",
    "     "
   ]
  },
  {
   "cell_type": "code",
   "execution_count": null,
   "metadata": {
    "collapsed": true
   },
   "outputs": [],
   "source": [
    "rev[\"total_rev\"]=rev.DataRevenue_JAN+rev.DataRevenue_FEB+rev.DataRevenue_MAR+rev.DataRevenue_APR+rev.DataRevenue_May\n",
    "rev.head()\n",
    "\n",
    "rev[\"total_use\"]=rev.DataUsageMB_JAN+rev.DataUsageMB_FEB+rev.DataUsageMB_MAR+rev.DataUsageMB_APR+rev.DataUsageMB_May\n",
    "rev.head()\n",
    "\n",
    "rev=rev.drop(rev.columns[[2, 3, 4,5,6,7,8,9,10,11,17,18]],axis=1)\n",
    "rev.head()"
   ]
  },
  {
   "cell_type": "markdown",
   "metadata": {},
   "source": [
    "   * get the scatterplot of data_usage(the one you created in previous question) and revenue_generated(the one\n",
    "      you created in previous question)    "
   ]
  },
  {
   "cell_type": "code",
   "execution_count": 15,
   "metadata": {},
   "outputs": [
    {
     "data": {
      "image/png": "[encoded data removed]",
      "text/plain": [
       "<matplotlib.figure.Figure at 0x1c4bb08e1d0>"
      ]
     },
     "metadata": {},
     "output_type": "display_data"
    },
    {
     "data": {
      "text/plain": [
       "<ggplot: (-9223371915325829565)>"
      ]
     },
     "execution_count": 15,
     "metadata": {},
     "output_type": "execute_result"
    }
   ],
   "source": [
    "from ggplot import *\n",
    "\n",
    "ggplot(aes(x=\"total_use\",y=\"total_rev\"),data=rev)+\\\n",
    "geom_point()+ggtitle(\"Scatter Plot\")"
   ]
  },
  {
   "cell_type": "markdown",
   "metadata": {},
   "source": [
    "   * Obtain the number of categories each object type column variable has (except the column variable Del_No)\n",
    "   "
   ]
  },
  {
   "cell_type": "code",
   "execution_count": 14,
   "metadata": {},
   "outputs": [
    {
     "name": "stdout",
     "output_type": "stream",
     "text": [
      "DEL_NO : 5242\n",
      "FCD : 1873\n",
      "HandSetType_JAN : 3\n",
      "HandSetType_FEB : 2\n",
      "HandSetType_MAR : 2\n",
      "HandSetType_APR : 2\n",
      "HandSetType_MAY : 2\n",
      "2G-3G_Latch_JAN : 1\n",
      "2G-3G_Latch_FEB : 1\n",
      "2G-3G_Latch_MAR : 1\n",
      "2G-3G_Latch_APR : 1\n",
      "2G-3G_Latch_MAY : 1\n",
      "DUProfile_JAN : 3\n",
      "DUProfile_FEB : 3\n",
      "DUProfile_MAR : 3\n",
      "DUProfile_APR : 3\n",
      "DUProfile_May : 3\n",
      "Customer Type : 4\n"
     ]
    }
   ],
   "source": [
    "rev_cat_data=rev.select_dtypes(['object'])\n",
    "\n",
    "for c in rev_cat_data.columns:\n",
    "    print(c,\":\",rev[c].nunique())\n"
   ]
  },
  {
   "cell_type": "markdown",
   "metadata": {},
   "source": [
    "8\\. Import a data set 'exercise' which should not contain the index column.\n"
   ]
  },
  {
   "cell_type": "code",
   "execution_count": null,
   "metadata": {},
   "outputs": [],
   "source": [
    "myfile='exercise_assign.csv'\n",
    "ex=pd.read_csv(myfile,index_col=False)\n",
    "\n",
    "ex.head()"
   ]
  },
  {
   "cell_type": "markdown",
   "metadata": {},
   "source": [
    "   * Filter the data for which the value of exercise column='g' , meaning obtain all day,warm,uprunning,situp and \n",
    "     cooldown for which exercise is g\n",
    "     "
   ]
  },
  {
   "cell_type": "code",
   "execution_count": null,
   "metadata": {},
   "outputs": [],
   "source": [
    "ex[(ex.exercise=='g')]"
   ]
  },
  {
   "cell_type": "markdown",
   "metadata": {},
   "source": [
    "   * Select the columns warmup and running and situp, mutate a column total_time to this which contains the sum of \n",
    "     warmup and running and situp. Filter the dataset for which total_time>30\n",
    "     \n",
    "     "
   ]
  },
  {
   "cell_type": "code",
   "execution_count": null,
   "metadata": {},
   "outputs": [],
   "source": [
    "new_ex=ex[[\"warmup\",\"situp\",\"running\"]]\n",
    "new_ex\n",
    "\n",
    "for col in new_ex.columns:\n",
    "#     print(type(col))\n",
    "     new_ex[col]=pd.to_numeric(new_ex[col], errors='coerce')# converting object data type to numeric\n",
    "        \n",
    "new_ex.dtypes\n",
    "new_ex.head()\n",
    "\n",
    "new_ex=new_ex.dropna() #removing missing values\n",
    "\n",
    "new_ex[\"total_time\"]=new_ex.warmup+new_ex.situp+new_ex.running\n",
    "new_ex\n",
    "\n",
    "new_ex[(new_ex.total_time>30)] #Filter the dataset for which total_time>30\n"
   ]
  },
  {
   "cell_type": "markdown",
   "metadata": {},
   "source": [
    "   * select the column 'day', convert this into a list containing the first 7 rows and using enumerate function assign\n",
    "      1 to monday, 2 to tuesday,,,,,,,,,, 7 to sunday\n",
    "      \n",
    "      Example:\n",
    "      \n",
    "      day = ['Monday', 'Tuesday', 'Wednesday', 'Thursday','Friday','Saturday','Sunday']\n",
    "      list(enumerate(day,start=1))\n",
    "\n",
    "      This will return me the tuple as:\n",
    "\n",
    "      [(1, 'Sunday'),(2, 'Monday'),(3, 'Tuesday'),(4, 'Wednesday'),(5, 'Thursday'),(6, 'Friday'),(7, 'Saturday')]\n",
    "      "
   ]
  },
  {
   "cell_type": "code",
   "execution_count": null,
   "metadata": {},
   "outputs": [],
   "source": [
    "day=ex[[\"Day\"]]\n",
    "day\n",
    "\n",
    "week_days=day[0:7]\n",
    "week_days\n",
    "\n",
    "dList = week_days['Day'].tolist()\n",
    "dList\n",
    "\n",
    "list(enumerate(dList,start=1))\n"
   ]
  },
  {
   "cell_type": "markdown",
   "metadata": {},
   "source": [
    "**Dummy Coding**\n",
    "\n",
    "Biggest requirement of any data handling process is to deal with categorical/object variables. To deal with this we will be making dummy variables out of categorical/object variables.Dummy coding is a way of\n",
    "representing groups of people using only zeros and ones\n",
    "\n",
    "If category is present then 1\n",
    "If category is not present then 0\n",
    "\n",
    "(you can use any other numeric representation). To do it, we have to create several variables; in fact, the number of variables we need is one less than the number of groups we’re recoding that means if a variable has **n** categories the number of dummy variables will be **n-1**\n",
    "\n",
    "Example:\n",
    "\n",
    "df = pd.DataFrame({'A': ['a', 'b', 'c'], 'B': ['i', 'me', 'you'],'C': [1, 2, 3]})\n",
    "\n",
    "Here A and B are categorical variables for which dummies need to be created.You see here for 3 categories we have created 2 dummy variables for each object variable.\n",
    "\n",
    " C     dummy_a dummy_b  dummy_i dummy_me   \n",
    " 1       1       0       1       0       \n",
    " 2       0       1       0       1       \n",
    " 3       1       0       0       0       \n",
    "         \n",
    "*Explore why we take n-1 categorical variables as dummy for n categories.* \n",
    "\n",
    "In python,to get dummy variables, we use function:\n",
    "\n",
    "*pandas.get_dummies(data, prefix=None, prefix_sep='_', dummy_na=False, columns=None, drop_first=False)*\n",
    "\n",
    "explore this function\n",
    "\n",
    "**Question**\n",
    "\n",
    "* Obtain dummy variables for object variables day and exercise for above dataset.After obtaining dummy variables ,drop   the actual variable column from dataset\n"
   ]
  },
  {
   "cell_type": "code",
   "execution_count": null,
   "metadata": {},
   "outputs": [],
   "source": [
    "pd.get_dummies(ex, prefix=None, prefix_sep='_', dummy_na=False, columns=[\"Day\",\"exercise\"], drop_first=True)"
   ]
  },
  {
   "cell_type": "markdown",
   "metadata": {},
   "source": []
  },
  {
   "cell_type": "code",
   "execution_count": null,
   "metadata": {
    "collapsed": true
   },
   "outputs": [],
   "source": []
  }
 ],
 "metadata": {
  "anaconda-cloud": {},
  "kernelspec": {
   "display_name": "Python 3",
   "language": "python",
   "name": "python3"
  },
  "language_info": {
   "codemirror_mode": {
    "name": "ipython",
    "version": 3
   },
   "file_extension": ".py",
   "mimetype": "text/x-python",
   "name": "python",
   "nbconvert_exporter": "python",
   "pygments_lexer": "ipython3",
   "version": "3.7.4"
  }
 },
 "nbformat": 4,
 "nbformat_minor": 1
}
