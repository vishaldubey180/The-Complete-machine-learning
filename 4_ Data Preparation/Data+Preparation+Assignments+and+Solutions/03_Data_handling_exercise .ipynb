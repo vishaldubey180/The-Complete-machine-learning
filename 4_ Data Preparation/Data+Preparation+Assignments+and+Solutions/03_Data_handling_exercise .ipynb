{
 "cells": [
  {
   "cell_type": "markdown",
   "metadata": {},
   "source": [
    "Note: These problems are little difficult to solve. If you are not able to solve them, dont worry. You will learn\n",
    "a lot in attempt to solve , even if you are not able to completely solve them eventually. Thats the idea.\n"
   ]
  },
  {
   "cell_type": "markdown",
   "metadata": {},
   "source": [
    "1. Create an array [[riya,sachin,andy],[prof dinesh,prof andrew, prof peter],[71,75,50]].From this array create a\n",
    "dictionary that has students with their respective prof name and marks obtained.\n",
    "\n",
    "It should be like:\n",
    "\n",
    "d={'riya':['prof dinesh',71],'sachin':['prof andrew',75],'andy':['prof peter',50]}"
   ]
  },
  {
   "cell_type": "markdown",
   "metadata": {},
   "source": [
    "2. create an array [[4,0,0],[4,4,0],[4,4,4]].Discover a direct function to get this lower triangular matrix or you can come up with any solution of yours."
   ]
  },
  {
   "cell_type": "markdown",
   "metadata": {},
   "source": [
    "3. Create an array of string data type of dimension 3,3 [you can put any strings of your choice in this array]. Obtain length of each string value in a separate 3,3 array. Also extract vowels of each string value and make a separate 3,3 array consisting of vowels of respective string value.\n",
    "\n",
    "Example:\n",
    "\n",
    "say you have an array [[me, i, my],[we, us, ours],[you, yours, them]] the length matrix should be [[2,1,2],[2,2,4],[3,5,4]] and vowel matrix should be [[e,i,None],[e,u,ou],[ou,ou,e]]"
   ]
  },
  {
   "cell_type": "markdown",
   "metadata": {},
   "source": [
    "4. Take an array of dimension 3,3 of float datatype(these should be random values between 2 to 40 , all integers) and print only those numbers which are prime [Prime numbers are numbers which are divisible only by themselves.]\n",
    "\n",
    "Example:\n",
    "\n",
    "if I take [[2,5,11],[8,15,9],[21,29,30]] It should give me the output: 2,5,29"
   ]
  },
  {
   "cell_type": "markdown",
   "metadata": {},
   "source": [
    "5. Obtain sum of diagonal elements of the matrix you considered above."
   ]
  },
  {
   "cell_type": "markdown",
   "metadata": {},
   "source": [
    "6. Explain definition and usage of lambda functions , apply , map and filter with appropriate examples"
   ]
  },
  {
   "cell_type": "markdown",
   "metadata": {},
   "source": [
    "7. Import a data set 'revenue' which should not contain the index column."
   ]
  },
  {
   "cell_type": "markdown",
   "metadata": {},
   "source": [
    "Change the data type of column Del_No to object type so that it is not considered as float data type."
   ]
  },
  {
   "cell_type": "markdown",
   "metadata": {},
   "source": [
    "get summary statistics of the numeric columns. "
   ]
  },
  {
   "cell_type": "code",
   "execution_count": 1,
   "metadata": {},
   "outputs": [
    {
     "name": "stdout",
     "output_type": "stream",
     "text": [
      "----\n",
      "\n",
      "----\n",
      "\n",
      "----\n",
      "\n"
     ]
    }
   ],
   "source": [
    "#Obtain mean and sum of columns data_revenue and columns data_usage for all the months.\n",
    "#remove missing values\n",
    "\n",
    " #mean of all the columns of columns data_revenue\n",
    "\n",
    "print(\"----\")\n",
    "\n",
    "print() #sum of all the columns of columns data_revenue\n",
    "\n",
    "print(\"----\")\n",
    "\n",
    "\n",
    "print() #mean of all the columns of columns data_usage\n",
    "\n",
    "print(\"----\")\n",
    "\n",
    "print() #sum of all the columns of columns data_usage"
   ]
  },
  {
   "cell_type": "code",
   "execution_count": null,
   "metadata": {},
   "outputs": [],
   "source": [
    "#Add a column in dataset that contains the sum of the revenues of all months and then drop all other revenue\n",
    "#columns.Do the same for data_usage columns.Also Drop the columns April_DUActivityDays and May_DUActivityDays"
   ]
  },
  {
   "cell_type": "code",
   "execution_count": null,
   "metadata": {},
   "outputs": [],
   "source": [
    "#get the scatterplot of data_usage(the one you created in previous question) and revenue_generated(the one you created in previous question) "
   ]
  },
  {
   "cell_type": "code",
   "execution_count": null,
   "metadata": {},
   "outputs": [],
   "source": [
    "#Obtain the number of categories each object type column variable has (except the column variable Del_No)"
   ]
  },
  {
   "cell_type": "markdown",
   "metadata": {},
   "source": [
    "8. Import a data set 'exercise' which should not contain the index column."
   ]
  },
  {
   "cell_type": "markdown",
   "metadata": {},
   "source": [
    "Filter the data for which the value of exercise column='g' , meaning obtain all day,warm,uprunning,situp and cooldown for which exercise is g"
   ]
  },
  {
   "cell_type": "markdown",
   "metadata": {},
   "source": [
    "Select the columns warmup and running and situp, mutate a column total_time to this which contains the sum of warmup and running and situp. Filter the dataset for which total_time>30"
   ]
  },
  {
   "cell_type": "markdown",
   "metadata": {},
   "source": [
    "select the column 'day', convert this into a list containing the first 7 rows and using enumerate function assign 1 to monday, 2 to tuesday,,,,,,,,,, 7 to sunday\n",
    "\n",
    "    Example:\n",
    "\n",
    "    day = ['Monday', 'Tuesday', 'Wednesday', 'Thursday','Friday','Saturday','Sunday'] list(enumerate(day,start=1))\n",
    "\n",
    "    This will return me the tuple as:\n",
    "\n",
    "    [(1, 'Sunday'),(2, 'Monday'),(3, 'Tuesday'),(4, 'Wednesday'),(5, 'Thursday'),(6, 'Friday'),(7, 'Saturday')]"
   ]
  },
  {
   "cell_type": "code",
   "execution_count": null,
   "metadata": {},
   "outputs": [],
   "source": []
  },
  {
   "cell_type": "code",
   "execution_count": null,
   "metadata": {},
   "outputs": [],
   "source": []
  }
 ],
 "metadata": {
  "anaconda-cloud": {},
  "kernelspec": {
   "display_name": "Python 3",
   "language": "python",
   "name": "python3"
  },
  "language_info": {
   "codemirror_mode": {
    "name": "ipython",
    "version": 3
   },
   "file_extension": ".py",
   "mimetype": "text/x-python",
   "name": "python",
   "nbconvert_exporter": "python",
   "pygments_lexer": "ipython3",
   "version": "3.7.1"
  }
 },
 "nbformat": 4,
 "nbformat_minor": 1
}
