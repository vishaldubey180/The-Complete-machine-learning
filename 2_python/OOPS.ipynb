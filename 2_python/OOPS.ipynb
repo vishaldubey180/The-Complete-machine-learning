{
 "cells": [
  {
   "cell_type": "markdown",
   "metadata": {},
   "source": [
    "## OBJECT ORIENTED PROGRAMMING "
   ]
  },
  {
   "cell_type": "markdown",
   "metadata": {},
   "source": [
    "- Python is an Object oriented Programming language\n",
    "- it allows us to develop applications using an object oriented approach\n",
    "- there are two type approach\n",
    "  - Object oriented approach\n",
    "  - Procedural programming "
   ]
  },
  {
   "cell_type": "markdown",
   "metadata": {},
   "source": [
    "## Difference"
   ]
  },
  {
   "cell_type": "markdown",
   "metadata": {},
   "source": [
    "- Object oriented programming is the problem solving approach here we have to do certain computation and these computation is done using different objects\n",
    "- So when we are using Object oriented programming we are trying to solve particular problem \n",
    "- But when we talk about procedural programming then we are just trying to follow certain list of instructions step by step\n",
    "- it is easy tp develop and maintain code with oops\n",
    "- it is not easy to maintain code with procedural programming as we can not go back to code \n",
    "\n",
    "- With oops we can hide those things which are not important for the user and user can see only those things which is important for the user\n",
    "\n",
    "- procedural programming does not provide any proper way for the binding and hiding the details "
   ]
  },
  {
   "cell_type": "markdown",
   "metadata": {},
   "source": [
    "## OOP"
   ]
  },
  {
   "cell_type": "markdown",
   "metadata": {},
   "source": [
    "- Allows Programmers to create their own objects which have methods and attribites/ Characterstics/variables\n",
    "- EX: person object may have method like: walk(), talk(), et() attribute like name, age, profession\n",
    "- Objects allow us to group related function \n",
    "- Ex: person1 eats only fruits and person2 eats only vegetables so although these functions would internally be different we would be able to identify which eat( needs to be executed "
   ]
  },
  {
   "cell_type": "markdown",
   "metadata": {},
   "source": []
  }
 ],
 "metadata": {
  "kernelspec": {
   "display_name": "Python 3",
   "language": "python",
   "name": "python3"
  },
  "language_info": {
   "codemirror_mode": {
    "name": "ipython",
    "version": 3
   },
   "file_extension": ".py",
   "mimetype": "text/x-python",
   "name": "python",
   "nbconvert_exporter": "python",
   "pygments_lexer": "ipython3",
   "version": "3.7.4"
  }
 },
 "nbformat": 4,
 "nbformat_minor": 2
}
