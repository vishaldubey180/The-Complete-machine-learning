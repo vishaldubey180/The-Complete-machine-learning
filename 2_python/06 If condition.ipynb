{
 "cells": [
  {
   "cell_type": "code",
   "execution_count": 4,
   "metadata": {},
   "outputs": [
    {
     "name": "stdout",
     "output_type": "stream",
     "text": [
      "cake is Baking !!\n",
      "Goodbye\n"
     ]
    }
   ],
   "source": [
    "cake = 'baking'\n",
    "print('cake is Baking !!')\n",
    "print('Goodbye')"
   ]
  },
  {
   "cell_type": "code",
   "execution_count": 6,
   "metadata": {},
   "outputs": [
    {
     "name": "stdout",
     "output_type": "stream",
     "text": [
      "cake is not Baking !!\n",
      "Goodbye\n"
     ]
    }
   ],
   "source": [
    "cake = 'not baking'\n",
    "print('cake is not Baking !!')\n",
    "print('Goodbye')"
   ]
  },
  {
   "cell_type": "code",
   "execution_count": 8,
   "metadata": {},
   "outputs": [
    {
     "name": "stdout",
     "output_type": "stream",
     "text": [
      "cake is not Baking !!\n",
      "Goodbye\n",
      "goodbye\n"
     ]
    }
   ],
   "source": [
    "if cake == 'baking':\n",
    "    print('cake is baking')\n",
    "    print('cake')\n",
    "    print('is')\n",
    "else:\n",
    "    print('cake is not Baking !!')\n",
    "    print('Goodbye')\n",
    "print('goodbye')"
   ]
  },
  {
   "cell_type": "code",
   "execution_count": 11,
   "metadata": {},
   "outputs": [
    {
     "name": "stdout",
     "output_type": "stream",
     "text": [
      "Cake is baked already\n",
      "goodbye\n"
     ]
    }
   ],
   "source": [
    "cake = 'Baked'\n",
    "if cake == 'baking':\n",
    "    print('cake is baking')\n",
    "    print('cake')\n",
    "    print('is')\n",
    "elif cake == 'Baked':\n",
    "    print('Cake is baked already')\n",
    "elif cake == 'dont like':\n",
    "    print('No cake today')\n",
    "else:\n",
    "    print('cake is not Baking !!')\n",
    "    print('Goodbye')\n",
    "print('goodbye')"
   ]
  },
  {
   "cell_type": "code",
   "execution_count": 18,
   "metadata": {},
   "outputs": [
    {
     "name": "stdout",
     "output_type": "stream",
     "text": [
      "No cake today\n",
      "give me chocolates\n",
      "goodbye\n"
     ]
    }
   ],
   "source": [
    "cake = 'dont like'\n",
    "food= 'tasty1'\n",
    "if cake == 'baking':\n",
    "    print('cake is baking')\n",
    "    print('cake')\n",
    "    print('is')\n",
    "elif cake == 'Baked':\n",
    "    print('Cake is baked already')\n",
    "elif cake == 'dont like':\n",
    "    print('No cake today')\n",
    "    if food == 'tasty':\n",
    "        print('food is yummy')\n",
    "    else:\n",
    "        print('give me chocolates')\n",
    "            \n",
    "else:\n",
    "    print('cake is not Baking !!')\n",
    "    print('Goodbye')\n",
    "print('goodbye')"
   ]
  },
  {
   "cell_type": "code",
   "execution_count": null,
   "metadata": {},
   "outputs": [],
   "source": []
  }
 ],
 "metadata": {
  "kernelspec": {
   "display_name": "Python 3",
   "language": "python",
   "name": "python3"
  },
  "language_info": {
   "codemirror_mode": {
    "name": "ipython",
    "version": 3
   },
   "file_extension": ".py",
   "mimetype": "text/x-python",
   "name": "python",
   "nbconvert_exporter": "python",
   "pygments_lexer": "ipython3",
   "version": "3.7.1"
  }
 },
 "nbformat": 4,
 "nbformat_minor": 4
}
