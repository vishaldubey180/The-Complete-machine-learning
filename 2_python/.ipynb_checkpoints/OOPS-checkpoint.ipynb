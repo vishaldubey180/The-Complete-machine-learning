{
 "cells": [
  {
   "cell_type": "markdown",
   "metadata": {},
   "source": [
    "## OBJECT ORIENTED PROGRAMMING "
   ]
  },
  {
   "cell_type": "markdown",
   "metadata": {},
   "source": [
    "- Python is an Object oriented Programming language\n",
    "- it allows us to develop applications using an object oriented approach\n",
    "- there are two type approach\n",
    "  - Object oriented approach\n",
    "  - Procedural programming "
   ]
  },
  {
   "cell_type": "markdown",
   "metadata": {},
   "source": [
    "## Difference"
   ]
  },
  {
   "cell_type": "markdown",
   "metadata": {},
   "source": [
    "- Object oriented programming is the problem solving approach here we have to do certain computation and these computation is done using different objects\n",
    "- So when we are using Object oriented programming we are trying to solve particular problem \n",
    "- But when we talk about procedural programming then we are just trying to follow certain list of instructions step by step\n",
    "- it is easy tp develop and maintain code with oops\n",
    "- it is not easy to maintain code with procedural programming as we can not go back to code \n",
    "\n",
    "- With oops we can hide those things which are not important for the user and user can see only those things which is important for the user\n",
    "\n",
    "- procedural programming does not provide any proper way for the binding and hiding the details "
   ]
  },
  {
   "cell_type": "markdown",
   "metadata": {},
   "source": [
    "## OOP"
   ]
  },
  {
   "cell_type": "markdown",
   "metadata": {},
   "source": [
    "- Allows Programmers to create their own objects which have methods and attribites/ Characterstics/variables\n",
    "- EX: person object may have method like: walk(), talk(), et() attribute like name, age, profession\n",
    "- Objects allow us to group related function \n",
    "- Ex: person1 eats only fruits and person2 eats only vegetables so although these functions would internally be different we would be able to identify which eat( needs to be executed "
   ]
  },
  {
   "cell_type": "markdown",
   "metadata": {},
   "source": [
    "- *Objects\n",
    "- *Using the class keyword\n",
    "- *creating class attributes\n",
    "- *Creating methods in a class\n",
    "- Learning about inheritance \n",
    "- Learning about polymorphism\n",
    "- Learning about special methods for classes"
   ]
  },
  {
   "cell_type": "code",
   "execution_count": 2,
   "metadata": {},
   "outputs": [],
   "source": [
    "# Let's say we have classroom and we want detail of student "
   ]
  },
  {
   "cell_type": "code",
   "execution_count": 6,
   "metadata": {},
   "outputs": [],
   "source": [
    "s1 = ['mayank',23,'Data scientist']\n",
    "s2 = ['saurabh',23,'developer']\n",
    "s3 = ['yash',20,'student']"
   ]
  },
  {
   "cell_type": "code",
   "execution_count": 8,
   "metadata": {},
   "outputs": [
    {
     "name": "stdout",
     "output_type": "stream",
     "text": [
      "name is  mayank\n",
      "name is  saurabh\n"
     ]
    }
   ],
   "source": [
    "print('name is ',s1[0])\n",
    "print('name is ',s2[0])"
   ]
  },
  {
   "cell_type": "code",
   "execution_count": 9,
   "metadata": {},
   "outputs": [],
   "source": [
    "# Now if we have to do this for 20000 student then we can not do 20000 time manually"
   ]
  },
  {
   "cell_type": "code",
   "execution_count": 10,
   "metadata": {},
   "outputs": [],
   "source": [
    "# without oops\n",
    "\n",
    "def createperson(student): # passing object to the function\n",
    "    global name,age,role  # making varable global so that we can access it from anywhere \n",
    "    name = student[0]\n",
    "    age = student[1]\n",
    "    roll = student[2]\n",
    "    print('name is ', name, 'age is', age)"
   ]
  },
  {
   "cell_type": "code",
   "execution_count": 13,
   "metadata": {},
   "outputs": [
    {
     "name": "stdout",
     "output_type": "stream",
     "text": [
      "name is  mayank age is 23\n",
      "mayank\n",
      "23\n"
     ]
    }
   ],
   "source": [
    "createperson(s1)\n",
    "print(name)\n",
    "print(age)"
   ]
  },
  {
   "cell_type": "code",
   "execution_count": 14,
   "metadata": {},
   "outputs": [
    {
     "name": "stdout",
     "output_type": "stream",
     "text": [
      "name is  saurabh age is 23\n",
      "saurabh\n",
      "23\n"
     ]
    }
   ],
   "source": [
    "createperson(s2)\n",
    "print(name)\n",
    "print(age)"
   ]
  },
  {
   "cell_type": "code",
   "execution_count": 15,
   "metadata": {},
   "outputs": [],
   "source": [
    "## with oops"
   ]
  },
  {
   "cell_type": "code",
   "execution_count": 19,
   "metadata": {},
   "outputs": [],
   "source": [
    "\n",
    "class Person:\n",
    "    \n",
    "    def createperson(self,person):\n",
    "        self.name=person[0]\n",
    "        self.age=person[1]\n",
    "        self.role=person[2]\n",
    "        print(': the person',self.name, 'has been created ')\n",
    "    def display(self):\n",
    "        print('the name of the person is :' + self.name + 'the age of the person is' + str(self.age) + 'the role of the person is' + self.role )\n",
    "    "
   ]
  },
  {
   "cell_type": "code",
   "execution_count": 16,
   "metadata": {},
   "outputs": [],
   "source": [
    "#if we create function inside a class then it is called as method  "
   ]
  },
  {
   "cell_type": "code",
   "execution_count": 21,
   "metadata": {},
   "outputs": [],
   "source": [
    "mayank = Person()\n",
    "yash = Person()"
   ]
  },
  {
   "cell_type": "code",
   "execution_count": 22,
   "metadata": {},
   "outputs": [
    {
     "data": {
      "text/plain": [
       "__main__.Person"
      ]
     },
     "execution_count": 22,
     "metadata": {},
     "output_type": "execute_result"
    }
   ],
   "source": [
    "type(yash)"
   ]
  },
  {
   "cell_type": "code",
   "execution_count": 24,
   "metadata": {},
   "outputs": [
    {
     "ename": "AttributeError",
     "evalue": "'Person' object has no attribute 'name'",
     "output_type": "error",
     "traceback": [
      "\u001b[1;31m---------------------------------------------------------------------------\u001b[0m",
      "\u001b[1;31mAttributeError\u001b[0m                            Traceback (most recent call last)",
      "\u001b[1;32m<ipython-input-24-58e20a88e419>\u001b[0m in \u001b[0;36m<module>\u001b[1;34m\u001b[0m\n\u001b[1;32m----> 1\u001b[1;33m \u001b[0mmayank\u001b[0m\u001b[1;33m.\u001b[0m\u001b[0mname\u001b[0m\u001b[1;33m\u001b[0m\u001b[1;33m\u001b[0m\u001b[0m\n\u001b[0m",
      "\u001b[1;31mAttributeError\u001b[0m: 'Person' object has no attribute 'name'"
     ]
    }
   ],
   "source": [
    "mayank.name"
   ]
  },
  {
   "cell_type": "code",
   "execution_count": 25,
   "metadata": {},
   "outputs": [
    {
     "name": "stdout",
     "output_type": "stream",
     "text": [
      ": the person mayank has been created \n"
     ]
    }
   ],
   "source": [
    "mayank.createperson(s1)"
   ]
  },
  {
   "cell_type": "code",
   "execution_count": 26,
   "metadata": {},
   "outputs": [
    {
     "data": {
      "text/plain": [
       "23"
      ]
     },
     "execution_count": 26,
     "metadata": {},
     "output_type": "execute_result"
    }
   ],
   "source": [
    "mayank.age"
   ]
  },
  {
   "cell_type": "code",
   "execution_count": 27,
   "metadata": {},
   "outputs": [
    {
     "data": {
      "text/plain": [
       "'Data scientist'"
      ]
     },
     "execution_count": 27,
     "metadata": {},
     "output_type": "execute_result"
    }
   ],
   "source": [
    "mayank.role"
   ]
  },
  {
   "cell_type": "code",
   "execution_count": 28,
   "metadata": {},
   "outputs": [
    {
     "name": "stdout",
     "output_type": "stream",
     "text": [
      "the name of the person is :mayankthe age of the person is23the role of the person isData scientist\n"
     ]
    }
   ],
   "source": [
    "mayank.display()"
   ]
  },
  {
   "cell_type": "markdown",
   "metadata": {},
   "source": [
    "## cLASSES OBJECTS AND ATTRIBUTES"
   ]
  },
  {
   "cell_type": "code",
   "execution_count": 29,
   "metadata": {},
   "outputs": [],
   "source": [
    "# iN PYTHON EVERYTHING IS OBJECT"
   ]
  },
  {
   "cell_type": "code",
   "execution_count": 30,
   "metadata": {},
   "outputs": [
    {
     "name": "stdout",
     "output_type": "stream",
     "text": [
      "<class 'int'>\n",
      "<class 'list'>\n",
      "<class 'tuple'>\n",
      "<class 'dict'>\n"
     ]
    }
   ],
   "source": [
    "print(type(1))\n",
    "print(type([]))\n",
    "print(type(()))\n",
    "print(type({}))"
   ]
  },
  {
   "cell_type": "code",
   "execution_count": 31,
   "metadata": {},
   "outputs": [],
   "source": [
    "# e craete object with the help of the class\n",
    "# class is the blueprint of obj \n",
    "# by using one class we can use number of obj"
   ]
  },
  {
   "cell_type": "code",
   "execution_count": 32,
   "metadata": {},
   "outputs": [
    {
     "name": "stdout",
     "output_type": "stream",
     "text": [
      "<class '__main__.Sample'>\n"
     ]
    }
   ],
   "source": [
    "class Sample:\n",
    "    pass\n",
    "x = Sample() # here we are creating instance of the class\n",
    "print(type(x))"
   ]
  },
  {
   "cell_type": "markdown",
   "metadata": {},
   "source": [
    "###### Characterstics of the obj is called as attribute\n",
    "###### actions or functions which we define inside the class is nothing but methods\n"
   ]
  },
  {
   "cell_type": "code",
   "execution_count": 38,
   "metadata": {},
   "outputs": [
    {
     "name": "stdout",
     "output_type": "stream",
     "text": [
      "Dog object created\n",
      "Dog object created\n"
     ]
    }
   ],
   "source": [
    "class dog:\n",
    "    def __init__(self): # when we craete an instance of dog class init method run utomatically\n",
    "\n",
    "        print('Dog object created')\n",
    "            \n",
    "\n",
    "sam = dog()\n",
    "mac = dog()\n",
    "    "
   ]
  },
  {
   "cell_type": "code",
   "execution_count": 39,
   "metadata": {},
   "outputs": [],
   "source": [
    "class dog:\n",
    "    def __init__(self,breed): # when we craete an instance of dog class init method run utomatically\n",
    "        self.breed = breed\n",
    "        print('Dog object created')\n",
    "            \n"
   ]
  },
  {
   "cell_type": "code",
   "execution_count": 40,
   "metadata": {},
   "outputs": [
    {
     "ename": "TypeError",
     "evalue": "__init__() missing 1 required positional argument: 'breed'",
     "output_type": "error",
     "traceback": [
      "\u001b[1;31m---------------------------------------------------------------------------\u001b[0m",
      "\u001b[1;31mTypeError\u001b[0m                                 Traceback (most recent call last)",
      "\u001b[1;32m<ipython-input-40-b8dc7b2c269e>\u001b[0m in \u001b[0;36m<module>\u001b[1;34m\u001b[0m\n\u001b[1;32m----> 1\u001b[1;33m \u001b[0msam\u001b[0m \u001b[1;33m=\u001b[0m \u001b[0mdog\u001b[0m\u001b[1;33m(\u001b[0m\u001b[1;33m)\u001b[0m\u001b[1;33m\u001b[0m\u001b[1;33m\u001b[0m\u001b[0m\n\u001b[0m\u001b[0;32m      2\u001b[0m \u001b[0mmac\u001b[0m \u001b[1;33m=\u001b[0m \u001b[0mdog\u001b[0m\u001b[1;33m(\u001b[0m\u001b[1;33m)\u001b[0m\u001b[1;33m\u001b[0m\u001b[1;33m\u001b[0m\u001b[0m\n",
      "\u001b[1;31mTypeError\u001b[0m: __init__() missing 1 required positional argument: 'breed'"
     ]
    }
   ],
   "source": [
    "\n",
    "sam = dog()\n",
    "mac = dog()"
   ]
  },
  {
   "cell_type": "code",
   "execution_count": 41,
   "metadata": {},
   "outputs": [
    {
     "name": "stdout",
     "output_type": "stream",
     "text": [
      "Dog object created\n",
      "Dog object created\n"
     ]
    }
   ],
   "source": [
    "\n",
    "sam = dog('huskie')\n",
    "mac = dog('german shefard')"
   ]
  },
  {
   "cell_type": "code",
   "execution_count": 42,
   "metadata": {},
   "outputs": [],
   "source": [
    "class dog:\n",
    "    def __init__(self,breed): # when we craete an instance of dog class init method run utomatically\n",
    "        self.breed = breed\n",
    "        print('Dog object created')\n",
    "        print('the bredd is', self.breed)"
   ]
  },
  {
   "cell_type": "code",
   "execution_count": 43,
   "metadata": {},
   "outputs": [
    {
     "name": "stdout",
     "output_type": "stream",
     "text": [
      "Dog object created\n",
      "the bredd is huskie\n",
      "Dog object created\n",
      "the bredd is german shefard\n"
     ]
    }
   ],
   "source": [
    "sam = dog('huskie')\n",
    "mac = dog('german shefard')"
   ]
  },
  {
   "cell_type": "markdown",
   "metadata": {},
   "source": [
    "## Methods"
   ]
  },
  {
   "cell_type": "code",
   "execution_count": 44,
   "metadata": {},
   "outputs": [],
   "source": [
    "# Mothods are the functions defined inside the class "
   ]
  },
  {
   "cell_type": "code",
   "execution_count": 45,
   "metadata": {},
   "outputs": [],
   "source": [
    "# methods are used to perform actions with the help of the objects"
   ]
  },
  {
   "cell_type": "code",
   "execution_count": 48,
   "metadata": {},
   "outputs": [],
   "source": [
    "#class -----\n",
    "class circle:\n",
    "    pi = 3.14\n",
    "    \n",
    "    def __init__(self, radius=1):\n",
    "        self.radius = radius\n",
    "        self.area = radius*radius*circle.pi\n",
    "        \n",
    "    def setradius(self, new_radius):\n",
    "        self.radius = new_radius\n",
    "        self.area = new_radius*new_radius*self.pi\n",
    "    def getcircumference(self):\n",
    "        return self.radius * self.pi*2\n",
    "    \n",
    "c = circle() # here we are not providing the raidus value so by default it will take 1\n",
    "        "
   ]
  },
  {
   "cell_type": "code",
   "execution_count": 51,
   "metadata": {},
   "outputs": [
    {
     "name": "stdout",
     "output_type": "stream",
     "text": [
      "radius is  1\n",
      "radius is  3.14\n",
      "radius is  <bound method circle.getcircumference of <__main__.circle object at 0x000001F3B7CF6AC8>>\n",
      "radius is  6.28\n"
     ]
    }
   ],
   "source": [
    "print('radius is ', c.radius)\n",
    "print('radius is ', c.area)\n",
    "print('radius is ', c.getcircumference)\n",
    "print('radius is ', c.getcircumference())"
   ]
  },
  {
   "cell_type": "code",
   "execution_count": 53,
   "metadata": {},
   "outputs": [
    {
     "name": "stdout",
     "output_type": "stream",
     "text": [
      "radius is  7\n",
      "radius is  153.86\n",
      "radius is  <bound method circle.getcircumference of <__main__.circle object at 0x000001F3B7980A88>>\n",
      "radius is  43.96\n"
     ]
    }
   ],
   "source": [
    "c = circle(7)\n",
    "print('radius is ', c.radius)\n",
    "print('radius is ', c.area)\n",
    "print('radius is ', c.getcircumference)\n",
    "print('radius is ', c.getcircumference())"
   ]
  },
  {
   "cell_type": "code",
   "execution_count": 57,
   "metadata": {},
   "outputs": [
    {
     "data": {
      "text/plain": [
       "153.86"
      ]
     },
     "execution_count": 57,
     "metadata": {},
     "output_type": "execute_result"
    }
   ],
   "source": [
    "c.area"
   ]
  },
  {
   "cell_type": "code",
   "execution_count": null,
   "metadata": {},
   "outputs": [],
   "source": []
  }
 ],
 "metadata": {
  "kernelspec": {
   "display_name": "Python 3",
   "language": "python",
   "name": "python3"
  },
  "language_info": {
   "codemirror_mode": {
    "name": "ipython",
    "version": 3
   },
   "file_extension": ".py",
   "mimetype": "text/x-python",
   "name": "python",
   "nbconvert_exporter": "python",
   "pygments_lexer": "ipython3",
   "version": "3.7.4"
  }
 },
 "nbformat": 4,
 "nbformat_minor": 2
}
