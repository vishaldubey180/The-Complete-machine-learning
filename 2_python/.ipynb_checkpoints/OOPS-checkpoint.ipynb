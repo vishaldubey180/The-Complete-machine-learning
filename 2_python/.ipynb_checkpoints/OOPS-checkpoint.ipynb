{
 "cells": [
  {
   "cell_type": "markdown",
   "metadata": {},
   "source": [
    "## OBJECT ORIENTED PROGRAMMING "
   ]
  },
  {
   "cell_type": "markdown",
   "metadata": {},
   "source": [
    "- Python is an Object oriented Programming language\n",
    "- it allows us to develop applications using an object oriented approach\n",
    "- there are two type approach\n",
    "  - Object oriented approach\n",
    "  - Procedural programming "
   ]
  },
  {
   "cell_type": "markdown",
   "metadata": {},
   "source": [
    "## Difference"
   ]
  },
  {
   "cell_type": "markdown",
   "metadata": {},
   "source": [
    "- Object oriented programming is the problem solving approach here we have to do certain computation and these computation is done using different objects\n",
    "- So when we are using Object oriented programming we are trying to solve particular problem \n",
    "- But when we talk about procedural programming then we are just trying to follow certain list of instructions step by step\n",
    "- it is easy tp develop and maintain code with oops\n",
    "- it is not easy to maintain code with procedural programming as we can not go back to code \n",
    "\n",
    "- With oops we can hide those things which are not important for the user and user can see only those things which is important for the user\n",
    "\n",
    "- procedural programming does not provide any proper way for the binding and hiding the details "
   ]
  },
  {
   "cell_type": "markdown",
   "metadata": {},
   "source": [
    "## OOP"
   ]
  },
  {
   "cell_type": "markdown",
   "metadata": {},
   "source": [
    "- Allows Programmers to create their own objects which have methods and attribites/ Characterstics/variables\n",
    "- EX: person object may have method like: walk(), talk(), et() attribute like name, age, profession\n",
    "- Objects allow us to group related function \n",
    "- Ex: person1 eats only fruits and person2 eats only vegetables so although these functions would internally be different we would be able to identify which eat( needs to be executed "
   ]
  },
  {
   "cell_type": "markdown",
   "metadata": {},
   "source": [
    "- *Objects\n",
    "- *Using the class keyword\n",
    "- *creating class attributes\n",
    "- *Creating methods in a class\n",
    "- Learning about inheritance \n",
    "- Learning about polymorphism\n",
    "- Learning about special methods for classes"
   ]
  },
  {
   "cell_type": "code",
   "execution_count": 2,
   "metadata": {},
   "outputs": [],
   "source": [
    "# Let's say we have classroom and we want detail of student "
   ]
  },
  {
   "cell_type": "code",
   "execution_count": 6,
   "metadata": {},
   "outputs": [],
   "source": [
    "s1 = ['mayank',23,'Data scientist']\n",
    "s2 = ['saurabh',23,'developer']\n",
    "s3 = ['yash',20,'student']"
   ]
  },
  {
   "cell_type": "code",
   "execution_count": 8,
   "metadata": {},
   "outputs": [
    {
     "name": "stdout",
     "output_type": "stream",
     "text": [
      "name is  mayank\n",
      "name is  saurabh\n"
     ]
    }
   ],
   "source": [
    "print('name is ',s1[0])\n",
    "print('name is ',s2[0])"
   ]
  },
  {
   "cell_type": "code",
   "execution_count": 9,
   "metadata": {},
   "outputs": [],
   "source": [
    "# Now if we have to do this for 20000 student then we can not do 20000 time manually"
   ]
  },
  {
   "cell_type": "code",
   "execution_count": 10,
   "metadata": {},
   "outputs": [],
   "source": [
    "# without oops\n",
    "\n",
    "def createperson(student): # passing object to the function\n",
    "    global name,age,role  # making varable global so that we can access it from anywhere \n",
    "    name = student[0]\n",
    "    age = student[1]\n",
    "    roll = student[2]\n",
    "    print('name is ', name, 'age is', age)"
   ]
  },
  {
   "cell_type": "code",
   "execution_count": 13,
   "metadata": {},
   "outputs": [
    {
     "name": "stdout",
     "output_type": "stream",
     "text": [
      "name is  mayank age is 23\n",
      "mayank\n",
      "23\n"
     ]
    }
   ],
   "source": [
    "createperson(s1)\n",
    "print(name)\n",
    "print(age)"
   ]
  },
  {
   "cell_type": "code",
   "execution_count": 14,
   "metadata": {},
   "outputs": [
    {
     "name": "stdout",
     "output_type": "stream",
     "text": [
      "name is  saurabh age is 23\n",
      "saurabh\n",
      "23\n"
     ]
    }
   ],
   "source": [
    "createperson(s2)\n",
    "print(name)\n",
    "print(age)"
   ]
  },
  {
   "cell_type": "code",
   "execution_count": 15,
   "metadata": {},
   "outputs": [],
   "source": [
    "## with oops"
   ]
  },
  {
   "cell_type": "code",
   "execution_count": 19,
   "metadata": {},
   "outputs": [],
   "source": [
    "\n",
    "class Person:\n",
    "    \n",
    "    def createperson(self,person):\n",
    "        self.name=person[0]\n",
    "        self.age=person[1]\n",
    "        self.role=person[2]\n",
    "        print(': the person',self.name, 'has been created ')\n",
    "    def display(self):\n",
    "        print('the name of the person is :' + self.name + 'the age of the person is' + str(self.age) + 'the role of the person is' + self.role )\n",
    "    "
   ]
  },
  {
   "cell_type": "code",
   "execution_count": 16,
   "metadata": {},
   "outputs": [],
   "source": [
    "#if we create function inside a class then it is called as method  "
   ]
  },
  {
   "cell_type": "code",
   "execution_count": 21,
   "metadata": {},
   "outputs": [],
   "source": [
    "mayank = Person()\n",
    "yash = Person()"
   ]
  },
  {
   "cell_type": "code",
   "execution_count": 22,
   "metadata": {},
   "outputs": [
    {
     "data": {
      "text/plain": [
       "__main__.Person"
      ]
     },
     "execution_count": 22,
     "metadata": {},
     "output_type": "execute_result"
    }
   ],
   "source": [
    "type(yash)"
   ]
  },
  {
   "cell_type": "code",
   "execution_count": 24,
   "metadata": {},
   "outputs": [
    {
     "ename": "AttributeError",
     "evalue": "'Person' object has no attribute 'name'",
     "output_type": "error",
     "traceback": [
      "\u001b[1;31m---------------------------------------------------------------------------\u001b[0m",
      "\u001b[1;31mAttributeError\u001b[0m                            Traceback (most recent call last)",
      "\u001b[1;32m<ipython-input-24-58e20a88e419>\u001b[0m in \u001b[0;36m<module>\u001b[1;34m\u001b[0m\n\u001b[1;32m----> 1\u001b[1;33m \u001b[0mmayank\u001b[0m\u001b[1;33m.\u001b[0m\u001b[0mname\u001b[0m\u001b[1;33m\u001b[0m\u001b[1;33m\u001b[0m\u001b[0m\n\u001b[0m",
      "\u001b[1;31mAttributeError\u001b[0m: 'Person' object has no attribute 'name'"
     ]
    }
   ],
   "source": [
    "mayank.name"
   ]
  },
  {
   "cell_type": "code",
   "execution_count": 25,
   "metadata": {},
   "outputs": [
    {
     "name": "stdout",
     "output_type": "stream",
     "text": [
      ": the person mayank has been created \n"
     ]
    }
   ],
   "source": [
    "mayank.createperson(s1)"
   ]
  },
  {
   "cell_type": "code",
   "execution_count": 26,
   "metadata": {},
   "outputs": [
    {
     "data": {
      "text/plain": [
       "23"
      ]
     },
     "execution_count": 26,
     "metadata": {},
     "output_type": "execute_result"
    }
   ],
   "source": [
    "mayank.age"
   ]
  },
  {
   "cell_type": "code",
   "execution_count": 27,
   "metadata": {},
   "outputs": [
    {
     "data": {
      "text/plain": [
       "'Data scientist'"
      ]
     },
     "execution_count": 27,
     "metadata": {},
     "output_type": "execute_result"
    }
   ],
   "source": [
    "mayank.role"
   ]
  },
  {
   "cell_type": "code",
   "execution_count": 28,
   "metadata": {},
   "outputs": [
    {
     "name": "stdout",
     "output_type": "stream",
     "text": [
      "the name of the person is :mayankthe age of the person is23the role of the person isData scientist\n"
     ]
    }
   ],
   "source": [
    "mayank.display()"
   ]
  },
  {
   "cell_type": "code",
   "execution_count": null,
   "metadata": {},
   "outputs": [],
   "source": []
  }
 ],
 "metadata": {
  "kernelspec": {
   "display_name": "Python 3",
   "language": "python",
   "name": "python3"
  },
  "language_info": {
   "codemirror_mode": {
    "name": "ipython",
    "version": 3
   },
   "file_extension": ".py",
   "mimetype": "text/x-python",
   "name": "python",
   "nbconvert_exporter": "python",
   "pygments_lexer": "ipython3",
   "version": "3.7.4"
  }
 },
 "nbformat": 4,
 "nbformat_minor": 2
}
