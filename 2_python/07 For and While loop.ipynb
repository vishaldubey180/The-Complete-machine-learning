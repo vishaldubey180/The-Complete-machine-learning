{
 "cells": [
  {
   "cell_type": "markdown",
   "metadata": {},
   "source": [
    "## Agenda\n",
    "1. Range function\n",
    "2. For loop using:\n",
    "  1. String\n",
    "  2. Range\n",
    "  3. List\n",
    "  4. Including Continue\n",
    "  5. Pass\n",
    "3. While loop\n",
    "4. While-else"
   ]
  },
  {
   "cell_type": "code",
   "execution_count": 3,
   "metadata": {},
   "outputs": [
    {
     "name": "stdout",
     "output_type": "stream",
     "text": [
      "Hello Arya\n",
      "Hello Sansa\n",
      "Hello John\n",
      "Hello Tokyo\n",
      "Hello Berlin\n"
     ]
    }
   ],
   "source": [
    "names=['Arya','Sansa','John','Tokyo','Berlin']\n",
    "print('Hello ' + names[0] )\n",
    "print('Hello ' + names[1] )\n",
    "print('Hello ' + names[2] )\n",
    "print('Hello ' + names[3] )\n",
    "print('Hello ' + names[4] )"
   ]
  },
  {
   "cell_type": "code",
   "execution_count": 4,
   "metadata": {},
   "outputs": [
    {
     "name": "stdout",
     "output_type": "stream",
     "text": [
      "Hello Arya\n",
      "Hello Sansa\n",
      "Hello John\n",
      "Hello Tokyo\n",
      "Hello Berlin\n"
     ]
    }
   ],
   "source": [
    "for name in names:\n",
    "    print('Hello ' +name)"
   ]
  },
  {
   "cell_type": "code",
   "execution_count": 2,
   "metadata": {},
   "outputs": [
    {
     "name": "stdout",
     "output_type": "stream",
     "text": [
      "m123\n",
      "0\n",
      "H\n",
      "i\n",
      "y123\n",
      "1\n",
      "H\n",
      "i\n",
      "N123\n",
      "2\n",
      "H\n",
      "i\n",
      "a123\n",
      "3\n"
     ]
    }
   ],
   "source": [
    "count =0\n",
    "for char in 'myNameIsJohn':\n",
    "    print(char + '123')\n",
    "    print(count)\n",
    "    count= count+1\n",
    "    if count > 3:\n",
    "        break\n",
    "    for i in 'Hi':\n",
    "        print(i)\n",
    "    "
   ]
  },
  {
   "cell_type": "code",
   "execution_count": 8,
   "metadata": {},
   "outputs": [
    {
     "name": "stdout",
     "output_type": "stream",
     "text": [
      "20\n",
      "22\n",
      "24\n",
      "26\n",
      "28\n"
     ]
    }
   ],
   "source": [
    "for val in range(20,30,2):\n",
    "    print(val)"
   ]
  },
  {
   "cell_type": "code",
   "execution_count": 10,
   "metadata": {},
   "outputs": [
    {
     "name": "stdout",
     "output_type": "stream",
     "text": [
      "the number is >= 5\n"
     ]
    }
   ],
   "source": [
    "count=5\n",
    "while count <5:\n",
    "    print(count)\n",
    "    count=count+1\n",
    "else:\n",
    "    print('the number is >= 5')"
   ]
  },
  {
   "cell_type": "code",
   "execution_count": null,
   "metadata": {},
   "outputs": [],
   "source": []
  },
  {
   "cell_type": "code",
   "execution_count": null,
   "metadata": {},
   "outputs": [],
   "source": []
  },
  {
   "cell_type": "code",
   "execution_count": null,
   "metadata": {},
   "outputs": [],
   "source": []
  }
 ],
 "metadata": {
  "kernelspec": {
   "display_name": "Python 3",
   "language": "python",
   "name": "python3"
  },
  "language_info": {
   "codemirror_mode": {
    "name": "ipython",
    "version": 3
   },
   "file_extension": ".py",
   "mimetype": "text/x-python",
   "name": "python",
   "nbconvert_exporter": "python",
   "pygments_lexer": "ipython3",
   "version": "3.7.1"
  }
 },
 "nbformat": 4,
 "nbformat_minor": 4
}
