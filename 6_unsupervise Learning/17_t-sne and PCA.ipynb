{
 "cells": [
  {
   "cell_type": "markdown",
   "metadata": {},
   "source": [
    "# t-sne"
   ]
  },
  {
   "cell_type": "code",
   "execution_count": 43,
   "metadata": {},
   "outputs": [],
   "source": [
    "import pandas as pd\n",
    "import numpy as np\n",
    "from sklearn.decomposition import PCA\n",
    "from sklearn.preprocessing import scale\n",
    "from sklearn.manifold import TSNE\n",
    "import matplotlib.pyplot as plt"
   ]
  },
  {
   "cell_type": "code",
   "execution_count": 2,
   "metadata": {},
   "outputs": [],
   "source": [
    "from sklearn import datasets\n",
    "digits = datasets.load_digits()\n",
    "# Take the first 500 data points: it's hard to see 1500 points\n",
    "X = digits.data[:500]\n",
    "y = digits.target[:500]"
   ]
  },
  {
   "cell_type": "code",
   "execution_count": 3,
   "metadata": {},
   "outputs": [
    {
     "data": {
      "text/plain": [
       "(500, 64)"
      ]
     },
     "execution_count": 3,
     "metadata": {},
     "output_type": "execute_result"
    }
   ],
   "source": [
    "X.shape"
   ]
  },
  {
   "cell_type": "code",
   "execution_count": 4,
   "metadata": {},
   "outputs": [
    {
     "data": {
      "text/html": [
       "<div>\n",
       "<style scoped>\n",
       "    .dataframe tbody tr th:only-of-type {\n",
       "        vertical-align: middle;\n",
       "    }\n",
       "\n",
       "    .dataframe tbody tr th {\n",
       "        vertical-align: top;\n",
       "    }\n",
       "\n",
       "    .dataframe thead th {\n",
       "        text-align: right;\n",
       "    }\n",
       "</style>\n",
       "<table border=\"1\" class=\"dataframe\">\n",
       "  <thead>\n",
       "    <tr style=\"text-align: right;\">\n",
       "      <th></th>\n",
       "      <th>0</th>\n",
       "      <th>1</th>\n",
       "      <th>2</th>\n",
       "      <th>3</th>\n",
       "      <th>4</th>\n",
       "      <th>5</th>\n",
       "      <th>6</th>\n",
       "      <th>7</th>\n",
       "      <th>8</th>\n",
       "      <th>9</th>\n",
       "      <th>...</th>\n",
       "      <th>54</th>\n",
       "      <th>55</th>\n",
       "      <th>56</th>\n",
       "      <th>57</th>\n",
       "      <th>58</th>\n",
       "      <th>59</th>\n",
       "      <th>60</th>\n",
       "      <th>61</th>\n",
       "      <th>62</th>\n",
       "      <th>63</th>\n",
       "    </tr>\n",
       "  </thead>\n",
       "  <tbody>\n",
       "    <tr>\n",
       "      <th>0</th>\n",
       "      <td>0.0</td>\n",
       "      <td>0.0</td>\n",
       "      <td>5.0</td>\n",
       "      <td>13.0</td>\n",
       "      <td>9.0</td>\n",
       "      <td>1.0</td>\n",
       "      <td>0.0</td>\n",
       "      <td>0.0</td>\n",
       "      <td>0.0</td>\n",
       "      <td>0.0</td>\n",
       "      <td>...</td>\n",
       "      <td>0.0</td>\n",
       "      <td>0.0</td>\n",
       "      <td>0.0</td>\n",
       "      <td>0.0</td>\n",
       "      <td>6.0</td>\n",
       "      <td>13.0</td>\n",
       "      <td>10.0</td>\n",
       "      <td>0.0</td>\n",
       "      <td>0.0</td>\n",
       "      <td>0.0</td>\n",
       "    </tr>\n",
       "    <tr>\n",
       "      <th>1</th>\n",
       "      <td>0.0</td>\n",
       "      <td>0.0</td>\n",
       "      <td>0.0</td>\n",
       "      <td>12.0</td>\n",
       "      <td>13.0</td>\n",
       "      <td>5.0</td>\n",
       "      <td>0.0</td>\n",
       "      <td>0.0</td>\n",
       "      <td>0.0</td>\n",
       "      <td>0.0</td>\n",
       "      <td>...</td>\n",
       "      <td>0.0</td>\n",
       "      <td>0.0</td>\n",
       "      <td>0.0</td>\n",
       "      <td>0.0</td>\n",
       "      <td>0.0</td>\n",
       "      <td>11.0</td>\n",
       "      <td>16.0</td>\n",
       "      <td>10.0</td>\n",
       "      <td>0.0</td>\n",
       "      <td>0.0</td>\n",
       "    </tr>\n",
       "    <tr>\n",
       "      <th>2</th>\n",
       "      <td>0.0</td>\n",
       "      <td>0.0</td>\n",
       "      <td>0.0</td>\n",
       "      <td>4.0</td>\n",
       "      <td>15.0</td>\n",
       "      <td>12.0</td>\n",
       "      <td>0.0</td>\n",
       "      <td>0.0</td>\n",
       "      <td>0.0</td>\n",
       "      <td>0.0</td>\n",
       "      <td>...</td>\n",
       "      <td>5.0</td>\n",
       "      <td>0.0</td>\n",
       "      <td>0.0</td>\n",
       "      <td>0.0</td>\n",
       "      <td>0.0</td>\n",
       "      <td>3.0</td>\n",
       "      <td>11.0</td>\n",
       "      <td>16.0</td>\n",
       "      <td>9.0</td>\n",
       "      <td>0.0</td>\n",
       "    </tr>\n",
       "    <tr>\n",
       "      <th>3</th>\n",
       "      <td>0.0</td>\n",
       "      <td>0.0</td>\n",
       "      <td>7.0</td>\n",
       "      <td>15.0</td>\n",
       "      <td>13.0</td>\n",
       "      <td>1.0</td>\n",
       "      <td>0.0</td>\n",
       "      <td>0.0</td>\n",
       "      <td>0.0</td>\n",
       "      <td>8.0</td>\n",
       "      <td>...</td>\n",
       "      <td>9.0</td>\n",
       "      <td>0.0</td>\n",
       "      <td>0.0</td>\n",
       "      <td>0.0</td>\n",
       "      <td>7.0</td>\n",
       "      <td>13.0</td>\n",
       "      <td>13.0</td>\n",
       "      <td>9.0</td>\n",
       "      <td>0.0</td>\n",
       "      <td>0.0</td>\n",
       "    </tr>\n",
       "    <tr>\n",
       "      <th>4</th>\n",
       "      <td>0.0</td>\n",
       "      <td>0.0</td>\n",
       "      <td>0.0</td>\n",
       "      <td>1.0</td>\n",
       "      <td>11.0</td>\n",
       "      <td>0.0</td>\n",
       "      <td>0.0</td>\n",
       "      <td>0.0</td>\n",
       "      <td>0.0</td>\n",
       "      <td>0.0</td>\n",
       "      <td>...</td>\n",
       "      <td>0.0</td>\n",
       "      <td>0.0</td>\n",
       "      <td>0.0</td>\n",
       "      <td>0.0</td>\n",
       "      <td>0.0</td>\n",
       "      <td>2.0</td>\n",
       "      <td>16.0</td>\n",
       "      <td>4.0</td>\n",
       "      <td>0.0</td>\n",
       "      <td>0.0</td>\n",
       "    </tr>\n",
       "  </tbody>\n",
       "</table>\n",
       "<p>5 rows × 64 columns</p>\n",
       "</div>"
      ],
      "text/plain": [
       "    0    1    2     3     4     5    6    7    8    9   ...   54   55   56  \\\n",
       "0  0.0  0.0  5.0  13.0   9.0   1.0  0.0  0.0  0.0  0.0  ...  0.0  0.0  0.0   \n",
       "1  0.0  0.0  0.0  12.0  13.0   5.0  0.0  0.0  0.0  0.0  ...  0.0  0.0  0.0   \n",
       "2  0.0  0.0  0.0   4.0  15.0  12.0  0.0  0.0  0.0  0.0  ...  5.0  0.0  0.0   \n",
       "3  0.0  0.0  7.0  15.0  13.0   1.0  0.0  0.0  0.0  8.0  ...  9.0  0.0  0.0   \n",
       "4  0.0  0.0  0.0   1.0  11.0   0.0  0.0  0.0  0.0  0.0  ...  0.0  0.0  0.0   \n",
       "\n",
       "    57   58    59    60    61   62   63  \n",
       "0  0.0  6.0  13.0  10.0   0.0  0.0  0.0  \n",
       "1  0.0  0.0  11.0  16.0  10.0  0.0  0.0  \n",
       "2  0.0  0.0   3.0  11.0  16.0  9.0  0.0  \n",
       "3  0.0  7.0  13.0  13.0   9.0  0.0  0.0  \n",
       "4  0.0  0.0   2.0  16.0   4.0  0.0  0.0  \n",
       "\n",
       "[5 rows x 64 columns]"
      ]
     },
     "execution_count": 4,
     "metadata": {},
     "output_type": "execute_result"
    }
   ],
   "source": [
    "pd.DataFrame(X).head()"
   ]
  },
  {
   "cell_type": "code",
   "execution_count": 67,
   "metadata": {},
   "outputs": [
    {
     "data": {
      "image/png": "[encoded data removed]",
      "text/plain": [
       "<Figure size 432x288 with 1 Axes>"
      ]
     },
     "metadata": {
      "needs_background": "light"
     },
     "output_type": "display_data"
    },
    {
     "name": "stdout",
     "output_type": "stream",
     "text": [
      "8\n"
     ]
    }
   ],
   "source": [
    "X=pd.DataFrame(X)\n",
    "plt.figure()\n",
    "idx=40\n",
    "grid_data= X.iloc[idx].values.reshape(8,8)\n",
    "plt.imshow(grid_data,interpolation=\"none\", cmap=\"gray\")\n",
    "plt.show()\n",
    "print(y[idx])"
   ]
  },
  {
   "cell_type": "code",
   "execution_count": null,
   "metadata": {},
   "outputs": [],
   "source": []
  },
  {
   "cell_type": "code",
   "execution_count": 5,
   "metadata": {},
   "outputs": [],
   "source": [
    "from sklearn.manifold import TSNE\n",
    "tsne = TSNE(n_components=2, random_state=0)"
   ]
  },
  {
   "cell_type": "code",
   "execution_count": 6,
   "metadata": {},
   "outputs": [],
   "source": [
    "X_2d = tsne.fit_transform(X)"
   ]
  },
  {
   "cell_type": "code",
   "execution_count": 7,
   "metadata": {},
   "outputs": [],
   "source": [
    "mydata=pd.DataFrame(X_2d,columns=['X','Y'])"
   ]
  },
  {
   "cell_type": "code",
   "execution_count": 8,
   "metadata": {},
   "outputs": [],
   "source": [
    "mydata['digits']=y"
   ]
  },
  {
   "cell_type": "code",
   "execution_count": 9,
   "metadata": {},
   "outputs": [
    {
     "data": {
      "text/html": [
       "<div>\n",
       "<style scoped>\n",
       "    .dataframe tbody tr th:only-of-type {\n",
       "        vertical-align: middle;\n",
       "    }\n",
       "\n",
       "    .dataframe tbody tr th {\n",
       "        vertical-align: top;\n",
       "    }\n",
       "\n",
       "    .dataframe thead th {\n",
       "        text-align: right;\n",
       "    }\n",
       "</style>\n",
       "<table border=\"1\" class=\"dataframe\">\n",
       "  <thead>\n",
       "    <tr style=\"text-align: right;\">\n",
       "      <th></th>\n",
       "      <th>X</th>\n",
       "      <th>Y</th>\n",
       "      <th>digits</th>\n",
       "    </tr>\n",
       "  </thead>\n",
       "  <tbody>\n",
       "    <tr>\n",
       "      <th>0</th>\n",
       "      <td>21.128862</td>\n",
       "      <td>-27.168310</td>\n",
       "      <td>0</td>\n",
       "    </tr>\n",
       "    <tr>\n",
       "      <th>1</th>\n",
       "      <td>4.987787</td>\n",
       "      <td>19.583260</td>\n",
       "      <td>1</td>\n",
       "    </tr>\n",
       "    <tr>\n",
       "      <th>2</th>\n",
       "      <td>-2.877124</td>\n",
       "      <td>15.290366</td>\n",
       "      <td>2</td>\n",
       "    </tr>\n",
       "    <tr>\n",
       "      <th>3</th>\n",
       "      <td>-8.521600</td>\n",
       "      <td>-21.091736</td>\n",
       "      <td>3</td>\n",
       "    </tr>\n",
       "    <tr>\n",
       "      <th>4</th>\n",
       "      <td>15.439630</td>\n",
       "      <td>23.603703</td>\n",
       "      <td>4</td>\n",
       "    </tr>\n",
       "    <tr>\n",
       "      <th>...</th>\n",
       "      <td>...</td>\n",
       "      <td>...</td>\n",
       "      <td>...</td>\n",
       "    </tr>\n",
       "    <tr>\n",
       "      <th>495</th>\n",
       "      <td>-11.408027</td>\n",
       "      <td>-5.706061</td>\n",
       "      <td>5</td>\n",
       "    </tr>\n",
       "    <tr>\n",
       "      <th>496</th>\n",
       "      <td>12.562231</td>\n",
       "      <td>22.834518</td>\n",
       "      <td>4</td>\n",
       "    </tr>\n",
       "    <tr>\n",
       "      <th>497</th>\n",
       "      <td>12.427700</td>\n",
       "      <td>21.450829</td>\n",
       "      <td>4</td>\n",
       "    </tr>\n",
       "    <tr>\n",
       "      <th>498</th>\n",
       "      <td>-16.493898</td>\n",
       "      <td>10.183492</td>\n",
       "      <td>7</td>\n",
       "    </tr>\n",
       "    <tr>\n",
       "      <th>499</th>\n",
       "      <td>-33.120514</td>\n",
       "      <td>0.248082</td>\n",
       "      <td>2</td>\n",
       "    </tr>\n",
       "  </tbody>\n",
       "</table>\n",
       "<p>500 rows × 3 columns</p>\n",
       "</div>"
      ],
      "text/plain": [
       "             X          Y  digits\n",
       "0    21.128862 -27.168310       0\n",
       "1     4.987787  19.583260       1\n",
       "2    -2.877124  15.290366       2\n",
       "3    -8.521600 -21.091736       3\n",
       "4    15.439630  23.603703       4\n",
       "..         ...        ...     ...\n",
       "495 -11.408027  -5.706061       5\n",
       "496  12.562231  22.834518       4\n",
       "497  12.427700  21.450829       4\n",
       "498 -16.493898  10.183492       7\n",
       "499 -33.120514   0.248082       2\n",
       "\n",
       "[500 rows x 3 columns]"
      ]
     },
     "execution_count": 9,
     "metadata": {},
     "output_type": "execute_result"
    }
   ],
   "source": [
    "mydata"
   ]
  },
  {
   "cell_type": "code",
   "execution_count": 10,
   "metadata": {},
   "outputs": [],
   "source": [
    "import seaborn as sns\n",
    "%matplotlib inline"
   ]
  },
  {
   "cell_type": "code",
   "execution_count": 11,
   "metadata": {},
   "outputs": [
    {
     "data": {
      "text/plain": [
       "<seaborn.axisgrid.FacetGrid at 0x140c60c5f98>"
      ]
     },
     "execution_count": 11,
     "metadata": {},
     "output_type": "execute_result"
    },
    {
     "data": {
      "image/png": "[encoded data removed]",
      "text/plain": [
       "<Figure size 402.375x360 with 1 Axes>"
      ]
     },
     "metadata": {
      "needs_background": "light"
     },
     "output_type": "display_data"
    }
   ],
   "source": [
    "sns.lmplot('X','Y',hue='digits',data=mydata,fit_reg=False)"
   ]
  },
  {
   "cell_type": "markdown",
   "metadata": {},
   "source": [
    "# PCA"
   ]
  },
  {
   "cell_type": "code",
   "execution_count": 5,
   "metadata": {},
   "outputs": [],
   "source": [
    "import pandas as pd\n",
    "import numpy as np\n",
    "from sklearn.decomposition import PCA,FactorAnalysis\n",
    "from sklearn.preprocessing import scale"
   ]
  },
  {
   "cell_type": "code",
   "execution_count": 7,
   "metadata": {},
   "outputs": [],
   "source": [
    "X=pd.DataFrame(X)"
   ]
  },
  {
   "cell_type": "code",
   "execution_count": 8,
   "metadata": {},
   "outputs": [],
   "source": [
    "import seaborn as sns\n",
    "%matplotlib inline"
   ]
  },
  {
   "cell_type": "code",
   "execution_count": 10,
   "metadata": {},
   "outputs": [
    {
     "data": {
      "text/plain": [
       "<matplotlib.axes._subplots.AxesSubplot at 0x1a5a9dd16a0>"
      ]
     },
     "execution_count": 10,
     "metadata": {},
     "output_type": "execute_result"
    },
    {
     "data": {
      "image/png": "[encoded data removed]",
      "text/plain": [
       "<Figure size 432x288 with 2 Axes>"
      ]
     },
     "metadata": {
      "needs_background": "light"
     },
     "output_type": "display_data"
    }
   ],
   "source": [
    "sns.heatmap(X.corr())"
   ]
  },
  {
   "cell_type": "code",
   "execution_count": 11,
   "metadata": {},
   "outputs": [
    {
     "data": {
      "text/plain": [
       "(500, 64)"
      ]
     },
     "execution_count": 11,
     "metadata": {},
     "output_type": "execute_result"
    }
   ],
   "source": [
    "X.shape"
   ]
  },
  {
   "cell_type": "code",
   "execution_count": 12,
   "metadata": {},
   "outputs": [],
   "source": [
    "X = scale(X)"
   ]
  },
  {
   "cell_type": "code",
   "execution_count": 26,
   "metadata": {},
   "outputs": [],
   "source": [
    "pca = PCA(n_components=30)"
   ]
  },
  {
   "cell_type": "code",
   "execution_count": 27,
   "metadata": {},
   "outputs": [
    {
     "data": {
      "text/plain": [
       "PCA(copy=True, iterated_power='auto', n_components=30, random_state=None,\n",
       "    svd_solver='auto', tol=0.0, whiten=False)"
      ]
     },
     "execution_count": 27,
     "metadata": {},
     "output_type": "execute_result"
    }
   ],
   "source": [
    "pca.fit(X)"
   ]
  },
  {
   "cell_type": "code",
   "execution_count": 28,
   "metadata": {},
   "outputs": [
    {
     "data": {
      "text/plain": [
       "array([[-3.64252984e-19,  1.66487613e-01,  2.82723339e-01, ...,\n",
       "         8.43317518e-02,  1.31338843e-01,  6.50920091e-02],\n",
       "       [-1.11087813e-18,  1.52827946e-01,  1.64825852e-01, ...,\n",
       "        -1.85739705e-01, -1.20871411e-01, -2.53273245e-02],\n",
       "       [ 7.63875092e-18, -7.55024258e-03,  1.39450682e-02, ...,\n",
       "        -1.74511068e-01, -1.03964179e-01, -4.87060114e-02],\n",
       "       ...,\n",
       "       [-1.21952664e-17, -1.96823061e-01,  2.43477309e-01, ...,\n",
       "         4.75681841e-02,  4.34042970e-01, -2.16335239e-01],\n",
       "       [-5.01483735e-18,  1.37572205e-01, -1.34233614e-01, ...,\n",
       "        -1.24514131e-01,  1.78908896e-01, -5.65307898e-02],\n",
       "       [ 9.38291995e-18, -1.42283916e-01, -3.99198023e-03, ...,\n",
       "        -1.29714954e-01,  6.05768786e-02, -1.54454522e-01]])"
      ]
     },
     "execution_count": 28,
     "metadata": {},
     "output_type": "execute_result"
    }
   ],
   "source": [
    "pca.components_"
   ]
  },
  {
   "cell_type": "code",
   "execution_count": 29,
   "metadata": {},
   "outputs": [
    {
     "data": {
      "text/plain": [
       "(30, 64)"
      ]
     },
     "execution_count": 29,
     "metadata": {},
     "output_type": "execute_result"
    }
   ],
   "source": [
    "pca.components_.shape"
   ]
  },
  {
   "cell_type": "code",
   "execution_count": 30,
   "metadata": {},
   "outputs": [
    {
     "name": "stdout",
     "output_type": "stream",
     "text": [
      "[0.12663392 0.11708302 0.09571633 0.08150309 0.05908238 0.04850778\n",
      " 0.03837072 0.03467566 0.03323844 0.03118078 0.02605507 0.0228442\n",
      " 0.01979542 0.01873576 0.01842789 0.01798289 0.01705212 0.01536987\n",
      " 0.01452443 0.01348523 0.0121402  0.01057205 0.00941575 0.00853207\n",
      " 0.00814234 0.00746037 0.00692708 0.00667642 0.00579687 0.00554259]\n"
     ]
    }
   ],
   "source": [
    "var= pca.explained_variance_ratio_\n",
    "\n",
    "print(var)"
   ]
  },
  {
   "cell_type": "code",
   "execution_count": 31,
   "metadata": {},
   "outputs": [
    {
     "name": "stdout",
     "output_type": "stream",
     "text": [
      "[12.66 24.37 33.94 42.09 48.   52.85 56.69 60.16 63.48 66.6  69.21 71.49\n",
      " 73.47 75.34 77.18 78.98 80.69 82.23 83.68 85.03 86.24 87.3  88.24 89.09\n",
      " 89.9  90.65 91.34 92.01 92.59 93.14]\n"
     ]
    }
   ],
   "source": [
    "var1=np.cumsum(np.round(pca.explained_variance_ratio_, decimals=4)*100)\n",
    "\n",
    "print(var1)"
   ]
  },
  {
   "cell_type": "code",
   "execution_count": 32,
   "metadata": {},
   "outputs": [],
   "source": [
    "pca = PCA(n_components=11)"
   ]
  },
  {
   "cell_type": "code",
   "execution_count": 33,
   "metadata": {},
   "outputs": [
    {
     "data": {
      "text/plain": [
       "PCA(copy=True, iterated_power='auto', n_components=11, random_state=None,\n",
       "    svd_solver='auto', tol=0.0, whiten=False)"
      ]
     },
     "execution_count": 33,
     "metadata": {},
     "output_type": "execute_result"
    }
   ],
   "source": [
    "pca.fit(X)"
   ]
  },
  {
   "cell_type": "code",
   "execution_count": 34,
   "metadata": {},
   "outputs": [
    {
     "data": {
      "text/plain": [
       "(11, 64)"
      ]
     },
     "execution_count": 34,
     "metadata": {},
     "output_type": "execute_result"
    }
   ],
   "source": [
    "pca.components_.shape"
   ]
  },
  {
   "cell_type": "code",
   "execution_count": 35,
   "metadata": {},
   "outputs": [],
   "source": [
    "X1=pd.DataFrame(pca.transform(X))"
   ]
  },
  {
   "cell_type": "code",
   "execution_count": 36,
   "metadata": {},
   "outputs": [
    {
     "data": {
      "text/html": [
       "<div>\n",
       "<style scoped>\n",
       "    .dataframe tbody tr th:only-of-type {\n",
       "        vertical-align: middle;\n",
       "    }\n",
       "\n",
       "    .dataframe tbody tr th {\n",
       "        vertical-align: top;\n",
       "    }\n",
       "\n",
       "    .dataframe thead th {\n",
       "        text-align: right;\n",
       "    }\n",
       "</style>\n",
       "<table border=\"1\" class=\"dataframe\">\n",
       "  <thead>\n",
       "    <tr style=\"text-align: right;\">\n",
       "      <th></th>\n",
       "      <th>0</th>\n",
       "      <th>1</th>\n",
       "      <th>2</th>\n",
       "      <th>3</th>\n",
       "      <th>4</th>\n",
       "      <th>5</th>\n",
       "      <th>6</th>\n",
       "      <th>7</th>\n",
       "      <th>8</th>\n",
       "      <th>9</th>\n",
       "      <th>10</th>\n",
       "    </tr>\n",
       "  </thead>\n",
       "  <tbody>\n",
       "    <tr>\n",
       "      <th>0</th>\n",
       "      <td>-0.291652</td>\n",
       "      <td>-0.822380</td>\n",
       "      <td>4.622968</td>\n",
       "      <td>-2.522359</td>\n",
       "      <td>-0.892747</td>\n",
       "      <td>-1.391832</td>\n",
       "      <td>-0.150441</td>\n",
       "      <td>1.188929</td>\n",
       "      <td>-0.117171</td>\n",
       "      <td>1.532972</td>\n",
       "      <td>-0.548154</td>\n",
       "    </tr>\n",
       "    <tr>\n",
       "      <th>1</th>\n",
       "      <td>-1.608562</td>\n",
       "      <td>-0.033303</td>\n",
       "      <td>-3.239410</td>\n",
       "      <td>2.177185</td>\n",
       "      <td>-0.472183</td>\n",
       "      <td>1.154618</td>\n",
       "      <td>-0.007055</td>\n",
       "      <td>0.415871</td>\n",
       "      <td>1.661338</td>\n",
       "      <td>-1.306322</td>\n",
       "      <td>-0.311246</td>\n",
       "    </tr>\n",
       "    <tr>\n",
       "      <th>2</th>\n",
       "      <td>-1.413524</td>\n",
       "      <td>-1.532948</td>\n",
       "      <td>-2.749890</td>\n",
       "      <td>1.726099</td>\n",
       "      <td>0.926073</td>\n",
       "      <td>-2.661301</td>\n",
       "      <td>-2.842991</td>\n",
       "      <td>1.683153</td>\n",
       "      <td>1.113164</td>\n",
       "      <td>1.977558</td>\n",
       "      <td>0.588082</td>\n",
       "    </tr>\n",
       "    <tr>\n",
       "      <th>3</th>\n",
       "      <td>2.692569</td>\n",
       "      <td>-0.219340</td>\n",
       "      <td>-2.161973</td>\n",
       "      <td>-2.207332</td>\n",
       "      <td>0.738537</td>\n",
       "      <td>0.901366</td>\n",
       "      <td>0.392268</td>\n",
       "      <td>-0.336948</td>\n",
       "      <td>-1.222042</td>\n",
       "      <td>-1.946342</td>\n",
       "      <td>0.779303</td>\n",
       "    </tr>\n",
       "    <tr>\n",
       "      <th>4</th>\n",
       "      <td>-4.218256</td>\n",
       "      <td>-2.770529</td>\n",
       "      <td>-0.592498</td>\n",
       "      <td>0.379986</td>\n",
       "      <td>-0.941029</td>\n",
       "      <td>0.048804</td>\n",
       "      <td>0.451313</td>\n",
       "      <td>0.706589</td>\n",
       "      <td>-2.139329</td>\n",
       "      <td>0.385774</td>\n",
       "      <td>1.066561</td>\n",
       "    </tr>\n",
       "    <tr>\n",
       "      <th>...</th>\n",
       "      <td>...</td>\n",
       "      <td>...</td>\n",
       "      <td>...</td>\n",
       "      <td>...</td>\n",
       "      <td>...</td>\n",
       "      <td>...</td>\n",
       "      <td>...</td>\n",
       "      <td>...</td>\n",
       "      <td>...</td>\n",
       "      <td>...</td>\n",
       "      <td>...</td>\n",
       "    </tr>\n",
       "    <tr>\n",
       "      <th>495</th>\n",
       "      <td>2.192887</td>\n",
       "      <td>2.797298</td>\n",
       "      <td>0.681435</td>\n",
       "      <td>0.883511</td>\n",
       "      <td>-1.112181</td>\n",
       "      <td>2.108011</td>\n",
       "      <td>-2.377863</td>\n",
       "      <td>0.828674</td>\n",
       "      <td>-1.003238</td>\n",
       "      <td>0.547243</td>\n",
       "      <td>-2.288534</td>\n",
       "    </tr>\n",
       "    <tr>\n",
       "      <th>496</th>\n",
       "      <td>-4.901541</td>\n",
       "      <td>-1.506021</td>\n",
       "      <td>-2.442758</td>\n",
       "      <td>-0.677726</td>\n",
       "      <td>-1.793079</td>\n",
       "      <td>0.636085</td>\n",
       "      <td>0.735978</td>\n",
       "      <td>0.366959</td>\n",
       "      <td>-1.014064</td>\n",
       "      <td>-0.063520</td>\n",
       "      <td>1.017573</td>\n",
       "    </tr>\n",
       "    <tr>\n",
       "      <th>497</th>\n",
       "      <td>-4.483489</td>\n",
       "      <td>-2.366808</td>\n",
       "      <td>-2.229576</td>\n",
       "      <td>0.820449</td>\n",
       "      <td>-1.122375</td>\n",
       "      <td>-0.117259</td>\n",
       "      <td>0.504324</td>\n",
       "      <td>0.537241</td>\n",
       "      <td>-2.077401</td>\n",
       "      <td>0.292990</td>\n",
       "      <td>0.844970</td>\n",
       "    </tr>\n",
       "    <tr>\n",
       "      <th>498</th>\n",
       "      <td>-3.463212</td>\n",
       "      <td>5.206973</td>\n",
       "      <td>3.965866</td>\n",
       "      <td>0.038808</td>\n",
       "      <td>3.864949</td>\n",
       "      <td>1.845625</td>\n",
       "      <td>-0.592565</td>\n",
       "      <td>1.666529</td>\n",
       "      <td>0.379484</td>\n",
       "      <td>-0.101939</td>\n",
       "      <td>-0.607854</td>\n",
       "    </tr>\n",
       "    <tr>\n",
       "      <th>499</th>\n",
       "      <td>5.189782</td>\n",
       "      <td>-0.283977</td>\n",
       "      <td>-0.336415</td>\n",
       "      <td>2.433347</td>\n",
       "      <td>0.697198</td>\n",
       "      <td>0.850589</td>\n",
       "      <td>-0.383619</td>\n",
       "      <td>1.128791</td>\n",
       "      <td>1.455006</td>\n",
       "      <td>0.579046</td>\n",
       "      <td>2.367398</td>\n",
       "    </tr>\n",
       "  </tbody>\n",
       "</table>\n",
       "<p>500 rows × 11 columns</p>\n",
       "</div>"
      ],
      "text/plain": [
       "            0         1         2         3         4         5         6  \\\n",
       "0   -0.291652 -0.822380  4.622968 -2.522359 -0.892747 -1.391832 -0.150441   \n",
       "1   -1.608562 -0.033303 -3.239410  2.177185 -0.472183  1.154618 -0.007055   \n",
       "2   -1.413524 -1.532948 -2.749890  1.726099  0.926073 -2.661301 -2.842991   \n",
       "3    2.692569 -0.219340 -2.161973 -2.207332  0.738537  0.901366  0.392268   \n",
       "4   -4.218256 -2.770529 -0.592498  0.379986 -0.941029  0.048804  0.451313   \n",
       "..        ...       ...       ...       ...       ...       ...       ...   \n",
       "495  2.192887  2.797298  0.681435  0.883511 -1.112181  2.108011 -2.377863   \n",
       "496 -4.901541 -1.506021 -2.442758 -0.677726 -1.793079  0.636085  0.735978   \n",
       "497 -4.483489 -2.366808 -2.229576  0.820449 -1.122375 -0.117259  0.504324   \n",
       "498 -3.463212  5.206973  3.965866  0.038808  3.864949  1.845625 -0.592565   \n",
       "499  5.189782 -0.283977 -0.336415  2.433347  0.697198  0.850589 -0.383619   \n",
       "\n",
       "            7         8         9        10  \n",
       "0    1.188929 -0.117171  1.532972 -0.548154  \n",
       "1    0.415871  1.661338 -1.306322 -0.311246  \n",
       "2    1.683153  1.113164  1.977558  0.588082  \n",
       "3   -0.336948 -1.222042 -1.946342  0.779303  \n",
       "4    0.706589 -2.139329  0.385774  1.066561  \n",
       "..        ...       ...       ...       ...  \n",
       "495  0.828674 -1.003238  0.547243 -2.288534  \n",
       "496  0.366959 -1.014064 -0.063520  1.017573  \n",
       "497  0.537241 -2.077401  0.292990  0.844970  \n",
       "498  1.666529  0.379484 -0.101939 -0.607854  \n",
       "499  1.128791  1.455006  0.579046  2.367398  \n",
       "\n",
       "[500 rows x 11 columns]"
      ]
     },
     "execution_count": 36,
     "metadata": {},
     "output_type": "execute_result"
    }
   ],
   "source": [
    "X1"
   ]
  },
  {
   "cell_type": "markdown",
   "metadata": {},
   "source": [
    "### individual pc loadings"
   ]
  },
  {
   "cell_type": "code",
   "execution_count": 37,
   "metadata": {},
   "outputs": [
    {
     "data": {
      "text/plain": [
       "array([-3.64252984e-19,  1.66487613e-01,  2.82723339e-01,  2.56179270e-01,\n",
       "       -8.02914346e-02, -9.95354600e-02, -9.28890200e-02, -9.39906813e-02,\n",
       "        9.59817979e-03,  2.58771605e-01,  2.71695035e-01,  4.05587947e-02,\n",
       "       -3.06904379e-02, -7.10182022e-02, -1.22386433e-01, -9.79575656e-02,\n",
       "        0.00000000e+00,  1.83087530e-01,  8.26191339e-02, -1.26721054e-01,\n",
       "        2.61907543e-02, -1.10319644e-01, -1.52573037e-01, -7.69668955e-02,\n",
       "       -1.10179249e-02, -5.37794388e-02, -1.14455540e-01,  4.43506442e-03,\n",
       "        2.64611970e-02, -1.82228972e-01, -1.33396529e-01,  0.00000000e+00,\n",
       "        0.00000000e+00, -1.68809821e-01, -1.63435767e-01, -1.16444680e-02,\n",
       "       -9.63707173e-02, -1.51648225e-01, -9.04114230e-02,  0.00000000e+00,\n",
       "        0.00000000e+00, -8.68562631e-02, -3.90439984e-02, -5.90801685e-02,\n",
       "       -1.93496816e-01, -5.71961023e-02,  6.57135264e-02,  8.28813117e-03,\n",
       "        0.00000000e+00,  1.06368615e-01,  2.11588882e-01,  9.18991531e-02,\n",
       "       -1.06866708e-01,  9.11798791e-02,  1.46627704e-01,  5.11584463e-02,\n",
       "        0.00000000e+00,  1.58546376e-01,  2.77662834e-01,  2.41270594e-01,\n",
       "        5.14053046e-02,  8.43317518e-02,  1.31338843e-01,  6.50920091e-02])"
      ]
     },
     "execution_count": 37,
     "metadata": {},
     "output_type": "execute_result"
    }
   ],
   "source": [
    "# pc1\n",
    "\n",
    "loadings=pca.components_[0]\n",
    "loadings"
   ]
  },
  {
   "cell_type": "code",
   "execution_count": 86,
   "metadata": {},
   "outputs": [],
   "source": [
    "file=r'Existing Base.csv'"
   ]
  },
  {
   "cell_type": "code",
   "execution_count": 87,
   "metadata": {},
   "outputs": [],
   "source": [
    "bd=pd.read_csv(file)"
   ]
  },
  {
   "cell_type": "code",
   "execution_count": 89,
   "metadata": {},
   "outputs": [
    {
     "data": {
      "text/plain": [
       "(10155, 32)"
      ]
     },
     "execution_count": 89,
     "metadata": {},
     "output_type": "execute_result"
    }
   ],
   "source": [
    "bd.shape"
   ]
  },
  {
   "cell_type": "code",
   "execution_count": 79,
   "metadata": {},
   "outputs": [],
   "source": [
    "cols=bd.select_dtypes('object').columns"
   ]
  },
  {
   "cell_type": "code",
   "execution_count": 80,
   "metadata": {},
   "outputs": [
    {
     "data": {
      "text/plain": [
       "Index(['children', 'age_band', 'status', 'occupation', 'occupation_partner',\n",
       "       'home_status', 'family_income', 'self_employed',\n",
       "       'self_employed_partner', 'TVarea', 'post_code', 'post_area', 'gender',\n",
       "       'region'],\n",
       "      dtype='object')"
      ]
     },
     "execution_count": 80,
     "metadata": {},
     "output_type": "execute_result"
    }
   ],
   "source": [
    "cols"
   ]
  },
  {
   "cell_type": "code",
   "execution_count": 82,
   "metadata": {},
   "outputs": [],
   "source": [
    "bd=bd.drop(cols, axis=1)"
   ]
  },
  {
   "cell_type": "code",
   "execution_count": 83,
   "metadata": {},
   "outputs": [
    {
     "data": {
      "text/plain": [
       "array([[-7.87094399e-04,  7.17572288e-03,  1.40914567e-01,\n",
       "         2.49373844e-01,  1.85973082e-01,  3.03464921e-01,\n",
       "         1.81532405e-01,  2.56363306e-01,  2.20767972e-01,\n",
       "         2.74963384e-01,  1.76660119e-01,  1.51066152e-01,\n",
       "         1.25842612e-01, -9.92762897e-02,  3.39045813e-01,\n",
       "         3.28671787e-01,  3.62214181e-01,  3.66481856e-01],\n",
       "       [-3.15339443e-02, -1.60005554e-02, -5.07832688e-01,\n",
       "         1.34749390e-01, -3.98912806e-01,  1.24896399e-01,\n",
       "        -4.69998388e-01,  5.82006183e-02,  3.17263654e-01,\n",
       "         2.10251800e-01, -3.74651017e-02,  5.46440580e-02,\n",
       "        -1.46897412e-01,  2.53044276e-01, -1.89735820e-01,\n",
       "         1.55269043e-01,  1.66299100e-01,  3.25017737e-02],\n",
       "       [ 6.36737813e-03, -5.70134241e-04, -2.69020292e-02,\n",
       "        -1.83610125e-01, -2.79377310e-01, -1.00375804e-01,\n",
       "        -1.72511903e-01,  1.04746294e-02, -3.38460918e-02,\n",
       "        -1.97532709e-02,  3.17279224e-01,  5.66657482e-02,\n",
       "         5.78975947e-01, -5.27454162e-01, -2.17833424e-01,\n",
       "         2.76510984e-01, -6.28840189e-02, -2.87688657e-02],\n",
       "       [ 2.93681889e-01,  2.99076274e-01,  1.07031402e-01,\n",
       "         2.71502252e-01, -1.34545096e-01,  1.12399105e-01,\n",
       "        -9.49171908e-02, -2.93021278e-01,  1.63979972e-01,\n",
       "         7.70779827e-03, -2.75067644e-01, -6.53653616e-01,\n",
       "         8.81796983e-02, -2.33742574e-01,  1.28466182e-01,\n",
       "        -6.08812653e-03,  2.17878924e-02,  6.50212682e-02],\n",
       "       [-6.35532685e-01, -6.42388077e-01,  7.60837141e-02,\n",
       "         1.34277281e-01, -2.23104052e-02,  2.82822033e-02,\n",
       "        -4.92499557e-02, -1.27513699e-01,  5.55736822e-02,\n",
       "         5.55743047e-03, -1.65465843e-01, -2.94030887e-01,\n",
       "         9.75823574e-02, -8.60220124e-02,  6.76991887e-02,\n",
       "         1.53086352e-02, -7.58988212e-03,  2.97327404e-02],\n",
       "       [ 7.09299228e-01, -6.98313743e-01, -4.64296174e-02,\n",
       "         5.12353494e-03, -1.70832981e-03,  3.42663615e-02,\n",
       "         8.87415486e-03,  2.77839949e-02, -5.32693188e-02,\n",
       "         1.60153481e-02, -3.10892745e-02, -1.17384079e-02,\n",
       "         2.61892295e-02,  8.94340280e-03,  7.14275123e-03,\n",
       "        -1.93372188e-03,  4.09620291e-03,  2.62977973e-03],\n",
       "       [ 4.19311305e-02, -1.57982759e-02,  2.34939974e-02,\n",
       "        -2.91576509e-01,  2.09702180e-01, -3.44573255e-01,\n",
       "         2.43192607e-01, -2.06018812e-01,  5.55294209e-01,\n",
       "        -4.52691563e-02,  5.77489197e-02, -1.77951746e-01,\n",
       "         2.10605954e-01,  3.90014475e-01, -1.67507382e-01,\n",
       "         2.73736286e-01,  4.36621483e-02,  3.69554275e-02],\n",
       "       [ 1.15286634e-03,  9.20720328e-02, -2.68499282e-01,\n",
       "         1.61686614e-01,  1.61408138e-01, -4.43832629e-04,\n",
       "         2.76062923e-02,  1.52360369e-01, -2.55218452e-01,\n",
       "        -5.40350597e-02, -5.82860229e-01,  1.35963900e-01,\n",
       "         5.70191445e-01,  2.42815753e-01,  4.06510568e-02,\n",
       "         1.40952754e-01, -1.05089517e-01,  1.86593104e-02],\n",
       "       [ 3.38378696e-02, -7.43179306e-03,  6.31880387e-01,\n",
       "        -1.81169606e-01, -3.37778547e-01, -8.91115957e-02,\n",
       "        -1.28502336e-01,  4.20435721e-02,  1.58892891e-01,\n",
       "         1.69613575e-01, -4.96614742e-01,  3.29414356e-01,\n",
       "        -6.53267395e-02, -1.30465350e-02, -6.14174793e-02,\n",
       "         8.98733802e-02,  3.01885772e-02,  5.87957550e-03],\n",
       "       [ 3.79182651e-02, -2.38922673e-02,  8.59841796e-02,\n",
       "         4.04533851e-01,  1.36227926e-01, -2.81613441e-03,\n",
       "        -2.72208623e-01, -4.88824351e-01,  2.50913590e-01,\n",
       "        -3.77113925e-01,  1.13035266e-01,  4.68709734e-01,\n",
       "         9.18043452e-02,  3.51100852e-04,  1.62610758e-01,\n",
       "        -5.65680195e-02, -1.39952209e-01, -6.51008263e-03],\n",
       "       [-2.40753482e-02, -6.77975574e-03, -3.63008502e-01,\n",
       "        -3.59750533e-01,  1.39523588e-01,  2.61542058e-01,\n",
       "         2.50548174e-01, -4.68808225e-01,  8.97257454e-02,\n",
       "         2.01853392e-01, -2.97264864e-01,  2.41261061e-01,\n",
       "        -9.71715412e-02, -3.78598159e-01, -2.86345302e-02,\n",
       "        -5.74002964e-02,  1.21210248e-01,  2.82461724e-02],\n",
       "       [-5.07863297e-03, -1.07977675e-02, -5.30640665e-02,\n",
       "        -2.78130675e-01,  1.36710415e-01,  2.63313684e-01,\n",
       "        -1.55691461e-01,  4.21234622e-01,  3.15642976e-01,\n",
       "        -6.61874605e-01, -1.84220363e-01, -6.31211484e-02,\n",
       "        -7.61765065e-02, -1.95863779e-01,  1.39826339e-02,\n",
       "        -3.32157963e-02,  9.03958981e-02,  2.67819248e-02],\n",
       "       [ 2.49441277e-02,  1.53036261e-02,  8.44777057e-02,\n",
       "        -1.69896401e-01,  6.39563734e-01, -1.02733671e-01,\n",
       "        -6.34456305e-01,  2.48907133e-02, -5.67008752e-02,\n",
       "         3.30840312e-01, -2.34199503e-02, -8.83014565e-02,\n",
       "        -5.12773137e-02, -9.55949839e-02, -2.33473883e-02,\n",
       "         6.12150771e-02, -5.63069891e-02, -1.20591319e-02],\n",
       "       [-1.17551563e-02,  1.36443322e-02,  1.97658975e-01,\n",
       "        -3.87939135e-01, -1.07490522e-01,  5.78307243e-01,\n",
       "        -1.86735121e-01, -2.61445194e-01, -2.21704422e-01,\n",
       "        -5.31299045e-02,  1.81320061e-01, -8.36575872e-02,\n",
       "         2.46496956e-01,  4.28613389e-01,  1.08851793e-01,\n",
       "        -5.42273131e-02,  7.47947794e-02,  6.47130435e-02],\n",
       "       [ 2.31778939e-04,  2.27617174e-03,  4.78269636e-02,\n",
       "         7.65164719e-02,  5.92219373e-02,  1.80218447e-01,\n",
       "         6.24331184e-02,  5.66391487e-02,  1.26556194e-01,\n",
       "         9.77727980e-02,  1.92937108e-02, -1.56545984e-04,\n",
       "         6.78752961e-02,  1.19058362e-03,  1.46099246e-01,\n",
       "         1.34939621e-01,  1.66135967e-01, -9.22523266e-01]])"
      ]
     },
     "execution_count": 83,
     "metadata": {},
     "output_type": "execute_result"
    }
   ],
   "source": [
    "X=bd.copy()\n",
    "X = scale(X)\n",
    "pca = PCA(n_components=15)\n",
    "pca.fit(X)\n",
    "pca.components_"
   ]
  },
  {
   "cell_type": "code",
   "execution_count": 90,
   "metadata": {},
   "outputs": [
    {
     "data": {
      "text/plain": [
       "(10155, 18)"
      ]
     },
     "execution_count": 90,
     "metadata": {},
     "output_type": "execute_result"
    }
   ],
   "source": [
    "X.shape"
   ]
  },
  {
   "cell_type": "code",
   "execution_count": 84,
   "metadata": {},
   "outputs": [
    {
     "name": "stdout",
     "output_type": "stream",
     "text": [
      "[0.38473952 0.09009908 0.08320456 0.0586766  0.05690777 0.05405932\n",
      " 0.05085096 0.04367538 0.03834109 0.0344337  0.02836597 0.02764208\n",
      " 0.02599872 0.01923985 0.00376541]\n"
     ]
    }
   ],
   "source": [
    "var= pca.explained_variance_ratio_\n",
    "\n",
    "print(var)"
   ]
  },
  {
   "cell_type": "code",
   "execution_count": 85,
   "metadata": {},
   "outputs": [
    {
     "name": "stdout",
     "output_type": "stream",
     "text": [
      "[ 38.47  47.48  55.8   61.67  67.36  72.77  77.86  82.23  86.06  89.5\n",
      "  92.34  95.1   97.7   99.62 100.  ]\n"
     ]
    }
   ],
   "source": [
    "var1=np.cumsum(np.round(pca.explained_variance_ratio_, decimals=4)*100)\n",
    "\n",
    "print(var1)"
   ]
  },
  {
   "cell_type": "code",
   "execution_count": null,
   "metadata": {},
   "outputs": [],
   "source": []
  }
 ],
 "metadata": {
  "kernelspec": {
   "display_name": "Python 3",
   "language": "python",
   "name": "python3"
  },
  "language_info": {
   "codemirror_mode": {
    "name": "ipython",
    "version": 3
   },
   "file_extension": ".py",
   "mimetype": "text/x-python",
   "name": "python",
   "nbconvert_exporter": "python",
   "pygments_lexer": "ipython3",
   "version": "3.7.1"
  }
 },
 "nbformat": 4,
 "nbformat_minor": 2
}
